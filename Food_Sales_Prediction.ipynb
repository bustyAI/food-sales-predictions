{
  "nbformat": 4,
  "nbformat_minor": 0,
  "metadata": {
    "colab": {
      "name": "Food_Sales_Prediction.ipynb",
      "provenance": [],
      "collapsed_sections": []
    },
    "kernelspec": {
      "name": "python3",
      "display_name": "Python 3"
    },
    "language_info": {
      "name": "python"
    }
  },
  "cells": [
    {
      "cell_type": "markdown",
      "source": [
        "# Food Sales Predictions Part 1 \n",
        "- Oscar Ochoa\n",
        "- 02/03/2022"
      ],
      "metadata": {
        "id": "2SHV6TMx5CBc"
      }
    },
    {
      "cell_type": "code",
      "execution_count": 1,
      "metadata": {
        "colab": {
          "base_uri": "https://localhost:8080/"
        },
        "id": "D4iCaaSDvuj9",
        "outputId": "c09c2f80-cf31-4e01-c85d-cfb2ac386d70"
      },
      "outputs": [
        {
          "output_type": "stream",
          "name": "stdout",
          "text": [
            "Mounted at /content/drive\n"
          ]
        }
      ],
      "source": [
        "# mounting drive\n",
        "from google.colab import drive\n",
        "drive.mount(\"/content/drive\")"
      ]
    },
    {
      "cell_type": "code",
      "source": [
        "# importing libraries\n",
        "import pandas as pd \n",
        "import numpy as np\n",
        "import seaborn as sns\n",
        "import matplotlib.pyplot as plt\n",
        "\n",
        "from sklearn.preprocessing import StandardScaler, OneHotEncoder\n",
        "from sklearn.impute import SimpleImputer\n",
        "from sklearn.compose import make_column_selector, make_column_transformer\n",
        "from sklearn.pipeline import make_pipeline\n",
        "from sklearn.model_selection import train_test_split\n",
        "from sklearn.linear_model import LinearRegression\n",
        "from sklearn.metrics import r2_score, mean_squared_error\n",
        "from sklearn.tree import DecisionTreeRegressor\n",
        "from sklearn.ensemble import BaggingRegressor, RandomForestRegressor\n",
        "from sklearn import set_config\n",
        "set_config(display=\"diagram\")"
      ],
      "metadata": {
        "id": "PPRTH38owdg9"
      },
      "execution_count": 2,
      "outputs": []
    },
    {
      "cell_type": "code",
      "source": [
        "# loading data set\n",
        "# loading data set \n",
        "file_name = \"/content/drive/MyDrive/Coding Dojo/Project1/sales_predictions (1).csv\"\n",
        "food_df = pd.read_csv(file_name)\n",
        "food_df_preprocessing = food_df.copy()\n",
        "food_df.tail()"
      ],
      "metadata": {
        "colab": {
          "base_uri": "https://localhost:8080/",
          "height": 356
        },
        "id": "nMSRcLyx3_zM",
        "outputId": "de851e6a-248c-4821-dc0e-77eb4abcb192"
      },
      "execution_count": 3,
      "outputs": [
        {
          "output_type": "execute_result",
          "data": {
            "text/html": [
              "\n",
              "  <div id=\"df-98e79032-0399-4841-812d-080b61b0064c\">\n",
              "    <div class=\"colab-df-container\">\n",
              "      <div>\n",
              "<style scoped>\n",
              "    .dataframe tbody tr th:only-of-type {\n",
              "        vertical-align: middle;\n",
              "    }\n",
              "\n",
              "    .dataframe tbody tr th {\n",
              "        vertical-align: top;\n",
              "    }\n",
              "\n",
              "    .dataframe thead th {\n",
              "        text-align: right;\n",
              "    }\n",
              "</style>\n",
              "<table border=\"1\" class=\"dataframe\">\n",
              "  <thead>\n",
              "    <tr style=\"text-align: right;\">\n",
              "      <th></th>\n",
              "      <th>Item_Identifier</th>\n",
              "      <th>Item_Weight</th>\n",
              "      <th>Item_Fat_Content</th>\n",
              "      <th>Item_Visibility</th>\n",
              "      <th>Item_Type</th>\n",
              "      <th>Item_MRP</th>\n",
              "      <th>Outlet_Identifier</th>\n",
              "      <th>Outlet_Establishment_Year</th>\n",
              "      <th>Outlet_Size</th>\n",
              "      <th>Outlet_Location_Type</th>\n",
              "      <th>Outlet_Type</th>\n",
              "      <th>Item_Outlet_Sales</th>\n",
              "    </tr>\n",
              "  </thead>\n",
              "  <tbody>\n",
              "    <tr>\n",
              "      <th>8518</th>\n",
              "      <td>FDF22</td>\n",
              "      <td>6.865</td>\n",
              "      <td>Low Fat</td>\n",
              "      <td>0.056783</td>\n",
              "      <td>Snack Foods</td>\n",
              "      <td>214.5218</td>\n",
              "      <td>OUT013</td>\n",
              "      <td>1987</td>\n",
              "      <td>High</td>\n",
              "      <td>Tier 3</td>\n",
              "      <td>Supermarket Type1</td>\n",
              "      <td>2778.3834</td>\n",
              "    </tr>\n",
              "    <tr>\n",
              "      <th>8519</th>\n",
              "      <td>FDS36</td>\n",
              "      <td>8.380</td>\n",
              "      <td>Regular</td>\n",
              "      <td>0.046982</td>\n",
              "      <td>Baking Goods</td>\n",
              "      <td>108.1570</td>\n",
              "      <td>OUT045</td>\n",
              "      <td>2002</td>\n",
              "      <td>NaN</td>\n",
              "      <td>Tier 2</td>\n",
              "      <td>Supermarket Type1</td>\n",
              "      <td>549.2850</td>\n",
              "    </tr>\n",
              "    <tr>\n",
              "      <th>8520</th>\n",
              "      <td>NCJ29</td>\n",
              "      <td>10.600</td>\n",
              "      <td>Low Fat</td>\n",
              "      <td>0.035186</td>\n",
              "      <td>Health and Hygiene</td>\n",
              "      <td>85.1224</td>\n",
              "      <td>OUT035</td>\n",
              "      <td>2004</td>\n",
              "      <td>Small</td>\n",
              "      <td>Tier 2</td>\n",
              "      <td>Supermarket Type1</td>\n",
              "      <td>1193.1136</td>\n",
              "    </tr>\n",
              "    <tr>\n",
              "      <th>8521</th>\n",
              "      <td>FDN46</td>\n",
              "      <td>7.210</td>\n",
              "      <td>Regular</td>\n",
              "      <td>0.145221</td>\n",
              "      <td>Snack Foods</td>\n",
              "      <td>103.1332</td>\n",
              "      <td>OUT018</td>\n",
              "      <td>2009</td>\n",
              "      <td>Medium</td>\n",
              "      <td>Tier 3</td>\n",
              "      <td>Supermarket Type2</td>\n",
              "      <td>1845.5976</td>\n",
              "    </tr>\n",
              "    <tr>\n",
              "      <th>8522</th>\n",
              "      <td>DRG01</td>\n",
              "      <td>14.800</td>\n",
              "      <td>Low Fat</td>\n",
              "      <td>0.044878</td>\n",
              "      <td>Soft Drinks</td>\n",
              "      <td>75.4670</td>\n",
              "      <td>OUT046</td>\n",
              "      <td>1997</td>\n",
              "      <td>Small</td>\n",
              "      <td>Tier 1</td>\n",
              "      <td>Supermarket Type1</td>\n",
              "      <td>765.6700</td>\n",
              "    </tr>\n",
              "  </tbody>\n",
              "</table>\n",
              "</div>\n",
              "      <button class=\"colab-df-convert\" onclick=\"convertToInteractive('df-98e79032-0399-4841-812d-080b61b0064c')\"\n",
              "              title=\"Convert this dataframe to an interactive table.\"\n",
              "              style=\"display:none;\">\n",
              "        \n",
              "  <svg xmlns=\"http://www.w3.org/2000/svg\" height=\"24px\"viewBox=\"0 0 24 24\"\n",
              "       width=\"24px\">\n",
              "    <path d=\"M0 0h24v24H0V0z\" fill=\"none\"/>\n",
              "    <path d=\"M18.56 5.44l.94 2.06.94-2.06 2.06-.94-2.06-.94-.94-2.06-.94 2.06-2.06.94zm-11 1L8.5 8.5l.94-2.06 2.06-.94-2.06-.94L8.5 2.5l-.94 2.06-2.06.94zm10 10l.94 2.06.94-2.06 2.06-.94-2.06-.94-.94-2.06-.94 2.06-2.06.94z\"/><path d=\"M17.41 7.96l-1.37-1.37c-.4-.4-.92-.59-1.43-.59-.52 0-1.04.2-1.43.59L10.3 9.45l-7.72 7.72c-.78.78-.78 2.05 0 2.83L4 21.41c.39.39.9.59 1.41.59.51 0 1.02-.2 1.41-.59l7.78-7.78 2.81-2.81c.8-.78.8-2.07 0-2.86zM5.41 20L4 18.59l7.72-7.72 1.47 1.35L5.41 20z\"/>\n",
              "  </svg>\n",
              "      </button>\n",
              "      \n",
              "  <style>\n",
              "    .colab-df-container {\n",
              "      display:flex;\n",
              "      flex-wrap:wrap;\n",
              "      gap: 12px;\n",
              "    }\n",
              "\n",
              "    .colab-df-convert {\n",
              "      background-color: #E8F0FE;\n",
              "      border: none;\n",
              "      border-radius: 50%;\n",
              "      cursor: pointer;\n",
              "      display: none;\n",
              "      fill: #1967D2;\n",
              "      height: 32px;\n",
              "      padding: 0 0 0 0;\n",
              "      width: 32px;\n",
              "    }\n",
              "\n",
              "    .colab-df-convert:hover {\n",
              "      background-color: #E2EBFA;\n",
              "      box-shadow: 0px 1px 2px rgba(60, 64, 67, 0.3), 0px 1px 3px 1px rgba(60, 64, 67, 0.15);\n",
              "      fill: #174EA6;\n",
              "    }\n",
              "\n",
              "    [theme=dark] .colab-df-convert {\n",
              "      background-color: #3B4455;\n",
              "      fill: #D2E3FC;\n",
              "    }\n",
              "\n",
              "    [theme=dark] .colab-df-convert:hover {\n",
              "      background-color: #434B5C;\n",
              "      box-shadow: 0px 1px 3px 1px rgba(0, 0, 0, 0.15);\n",
              "      filter: drop-shadow(0px 1px 2px rgba(0, 0, 0, 0.3));\n",
              "      fill: #FFFFFF;\n",
              "    }\n",
              "  </style>\n",
              "\n",
              "      <script>\n",
              "        const buttonEl =\n",
              "          document.querySelector('#df-98e79032-0399-4841-812d-080b61b0064c button.colab-df-convert');\n",
              "        buttonEl.style.display =\n",
              "          google.colab.kernel.accessAllowed ? 'block' : 'none';\n",
              "\n",
              "        async function convertToInteractive(key) {\n",
              "          const element = document.querySelector('#df-98e79032-0399-4841-812d-080b61b0064c');\n",
              "          const dataTable =\n",
              "            await google.colab.kernel.invokeFunction('convertToInteractive',\n",
              "                                                     [key], {});\n",
              "          if (!dataTable) return;\n",
              "\n",
              "          const docLinkHtml = 'Like what you see? Visit the ' +\n",
              "            '<a target=\"_blank\" href=https://colab.research.google.com/notebooks/data_table.ipynb>data table notebook</a>'\n",
              "            + ' to learn more about interactive tables.';\n",
              "          element.innerHTML = '';\n",
              "          dataTable['output_type'] = 'display_data';\n",
              "          await google.colab.output.renderOutput(dataTable, element);\n",
              "          const docLink = document.createElement('div');\n",
              "          docLink.innerHTML = docLinkHtml;\n",
              "          element.appendChild(docLink);\n",
              "        }\n",
              "      </script>\n",
              "    </div>\n",
              "  </div>\n",
              "  "
            ],
            "text/plain": [
              "     Item_Identifier  Item_Weight Item_Fat_Content  Item_Visibility  \\\n",
              "8518           FDF22        6.865          Low Fat         0.056783   \n",
              "8519           FDS36        8.380          Regular         0.046982   \n",
              "8520           NCJ29       10.600          Low Fat         0.035186   \n",
              "8521           FDN46        7.210          Regular         0.145221   \n",
              "8522           DRG01       14.800          Low Fat         0.044878   \n",
              "\n",
              "               Item_Type  Item_MRP Outlet_Identifier  \\\n",
              "8518         Snack Foods  214.5218            OUT013   \n",
              "8519        Baking Goods  108.1570            OUT045   \n",
              "8520  Health and Hygiene   85.1224            OUT035   \n",
              "8521         Snack Foods  103.1332            OUT018   \n",
              "8522         Soft Drinks   75.4670            OUT046   \n",
              "\n",
              "      Outlet_Establishment_Year Outlet_Size Outlet_Location_Type  \\\n",
              "8518                       1987        High               Tier 3   \n",
              "8519                       2002         NaN               Tier 2   \n",
              "8520                       2004       Small               Tier 2   \n",
              "8521                       2009      Medium               Tier 3   \n",
              "8522                       1997       Small               Tier 1   \n",
              "\n",
              "            Outlet_Type  Item_Outlet_Sales  \n",
              "8518  Supermarket Type1          2778.3834  \n",
              "8519  Supermarket Type1           549.2850  \n",
              "8520  Supermarket Type1          1193.1136  \n",
              "8521  Supermarket Type2          1845.5976  \n",
              "8522  Supermarket Type1           765.6700  "
            ]
          },
          "metadata": {},
          "execution_count": 3
        }
      ]
    },
    {
      "cell_type": "markdown",
      "source": [
        "# Food Sales Prediction Part 2"
      ],
      "metadata": {
        "id": "UntMjXDidmtz"
      }
    },
    {
      "cell_type": "code",
      "source": [
        "# checking rows and columns\n",
        "food_df.shape"
      ],
      "metadata": {
        "colab": {
          "base_uri": "https://localhost:8080/"
        },
        "id": "dGqxSAJp4HJW",
        "outputId": "0df6662e-042b-436a-d63c-0f1511a3eaef"
      },
      "execution_count": 4,
      "outputs": [
        {
          "output_type": "execute_result",
          "data": {
            "text/plain": [
              "(8523, 12)"
            ]
          },
          "metadata": {},
          "execution_count": 4
        }
      ]
    },
    {
      "cell_type": "code",
      "source": [
        "# checking data types of variables\n",
        "food_dtypes = food_df.dtypes\n",
        "food_dtypes"
      ],
      "metadata": {
        "colab": {
          "base_uri": "https://localhost:8080/"
        },
        "id": "U81X1tdR40lg",
        "outputId": "ff1b1313-139e-4a59-d4e4-754d3fd01ff6"
      },
      "execution_count": 5,
      "outputs": [
        {
          "output_type": "execute_result",
          "data": {
            "text/plain": [
              "Item_Identifier               object\n",
              "Item_Weight                  float64\n",
              "Item_Fat_Content              object\n",
              "Item_Visibility              float64\n",
              "Item_Type                     object\n",
              "Item_MRP                     float64\n",
              "Outlet_Identifier             object\n",
              "Outlet_Establishment_Year      int64\n",
              "Outlet_Size                   object\n",
              "Outlet_Location_Type          object\n",
              "Outlet_Type                   object\n",
              "Item_Outlet_Sales            float64\n",
              "dtype: object"
            ]
          },
          "metadata": {},
          "execution_count": 5
        }
      ]
    },
    {
      "cell_type": "code",
      "source": [
        "# checking for duplicted / No duplicates\n",
        "food_df[food_df.duplicated()]"
      ],
      "metadata": {
        "colab": {
          "base_uri": "https://localhost:8080/",
          "height": 113
        },
        "id": "ZHIcJNyFOLlq",
        "outputId": "4379d2db-3ebf-46df-dd54-d21219d0000a"
      },
      "execution_count": 6,
      "outputs": [
        {
          "output_type": "execute_result",
          "data": {
            "text/html": [
              "\n",
              "  <div id=\"df-77580d1c-00d7-414f-9387-f2fec7308c97\">\n",
              "    <div class=\"colab-df-container\">\n",
              "      <div>\n",
              "<style scoped>\n",
              "    .dataframe tbody tr th:only-of-type {\n",
              "        vertical-align: middle;\n",
              "    }\n",
              "\n",
              "    .dataframe tbody tr th {\n",
              "        vertical-align: top;\n",
              "    }\n",
              "\n",
              "    .dataframe thead th {\n",
              "        text-align: right;\n",
              "    }\n",
              "</style>\n",
              "<table border=\"1\" class=\"dataframe\">\n",
              "  <thead>\n",
              "    <tr style=\"text-align: right;\">\n",
              "      <th></th>\n",
              "      <th>Item_Identifier</th>\n",
              "      <th>Item_Weight</th>\n",
              "      <th>Item_Fat_Content</th>\n",
              "      <th>Item_Visibility</th>\n",
              "      <th>Item_Type</th>\n",
              "      <th>Item_MRP</th>\n",
              "      <th>Outlet_Identifier</th>\n",
              "      <th>Outlet_Establishment_Year</th>\n",
              "      <th>Outlet_Size</th>\n",
              "      <th>Outlet_Location_Type</th>\n",
              "      <th>Outlet_Type</th>\n",
              "      <th>Item_Outlet_Sales</th>\n",
              "    </tr>\n",
              "  </thead>\n",
              "  <tbody>\n",
              "  </tbody>\n",
              "</table>\n",
              "</div>\n",
              "      <button class=\"colab-df-convert\" onclick=\"convertToInteractive('df-77580d1c-00d7-414f-9387-f2fec7308c97')\"\n",
              "              title=\"Convert this dataframe to an interactive table.\"\n",
              "              style=\"display:none;\">\n",
              "        \n",
              "  <svg xmlns=\"http://www.w3.org/2000/svg\" height=\"24px\"viewBox=\"0 0 24 24\"\n",
              "       width=\"24px\">\n",
              "    <path d=\"M0 0h24v24H0V0z\" fill=\"none\"/>\n",
              "    <path d=\"M18.56 5.44l.94 2.06.94-2.06 2.06-.94-2.06-.94-.94-2.06-.94 2.06-2.06.94zm-11 1L8.5 8.5l.94-2.06 2.06-.94-2.06-.94L8.5 2.5l-.94 2.06-2.06.94zm10 10l.94 2.06.94-2.06 2.06-.94-2.06-.94-.94-2.06-.94 2.06-2.06.94z\"/><path d=\"M17.41 7.96l-1.37-1.37c-.4-.4-.92-.59-1.43-.59-.52 0-1.04.2-1.43.59L10.3 9.45l-7.72 7.72c-.78.78-.78 2.05 0 2.83L4 21.41c.39.39.9.59 1.41.59.51 0 1.02-.2 1.41-.59l7.78-7.78 2.81-2.81c.8-.78.8-2.07 0-2.86zM5.41 20L4 18.59l7.72-7.72 1.47 1.35L5.41 20z\"/>\n",
              "  </svg>\n",
              "      </button>\n",
              "      \n",
              "  <style>\n",
              "    .colab-df-container {\n",
              "      display:flex;\n",
              "      flex-wrap:wrap;\n",
              "      gap: 12px;\n",
              "    }\n",
              "\n",
              "    .colab-df-convert {\n",
              "      background-color: #E8F0FE;\n",
              "      border: none;\n",
              "      border-radius: 50%;\n",
              "      cursor: pointer;\n",
              "      display: none;\n",
              "      fill: #1967D2;\n",
              "      height: 32px;\n",
              "      padding: 0 0 0 0;\n",
              "      width: 32px;\n",
              "    }\n",
              "\n",
              "    .colab-df-convert:hover {\n",
              "      background-color: #E2EBFA;\n",
              "      box-shadow: 0px 1px 2px rgba(60, 64, 67, 0.3), 0px 1px 3px 1px rgba(60, 64, 67, 0.15);\n",
              "      fill: #174EA6;\n",
              "    }\n",
              "\n",
              "    [theme=dark] .colab-df-convert {\n",
              "      background-color: #3B4455;\n",
              "      fill: #D2E3FC;\n",
              "    }\n",
              "\n",
              "    [theme=dark] .colab-df-convert:hover {\n",
              "      background-color: #434B5C;\n",
              "      box-shadow: 0px 1px 3px 1px rgba(0, 0, 0, 0.15);\n",
              "      filter: drop-shadow(0px 1px 2px rgba(0, 0, 0, 0.3));\n",
              "      fill: #FFFFFF;\n",
              "    }\n",
              "  </style>\n",
              "\n",
              "      <script>\n",
              "        const buttonEl =\n",
              "          document.querySelector('#df-77580d1c-00d7-414f-9387-f2fec7308c97 button.colab-df-convert');\n",
              "        buttonEl.style.display =\n",
              "          google.colab.kernel.accessAllowed ? 'block' : 'none';\n",
              "\n",
              "        async function convertToInteractive(key) {\n",
              "          const element = document.querySelector('#df-77580d1c-00d7-414f-9387-f2fec7308c97');\n",
              "          const dataTable =\n",
              "            await google.colab.kernel.invokeFunction('convertToInteractive',\n",
              "                                                     [key], {});\n",
              "          if (!dataTable) return;\n",
              "\n",
              "          const docLinkHtml = 'Like what you see? Visit the ' +\n",
              "            '<a target=\"_blank\" href=https://colab.research.google.com/notebooks/data_table.ipynb>data table notebook</a>'\n",
              "            + ' to learn more about interactive tables.';\n",
              "          element.innerHTML = '';\n",
              "          dataTable['output_type'] = 'display_data';\n",
              "          await google.colab.output.renderOutput(dataTable, element);\n",
              "          const docLink = document.createElement('div');\n",
              "          docLink.innerHTML = docLinkHtml;\n",
              "          element.appendChild(docLink);\n",
              "        }\n",
              "      </script>\n",
              "    </div>\n",
              "  </div>\n",
              "  "
            ],
            "text/plain": [
              "Empty DataFrame\n",
              "Columns: [Item_Identifier, Item_Weight, Item_Fat_Content, Item_Visibility, Item_Type, Item_MRP, Outlet_Identifier, Outlet_Establishment_Year, Outlet_Size, Outlet_Location_Type, Outlet_Type, Item_Outlet_Sales]\n",
              "Index: []"
            ]
          },
          "metadata": {},
          "execution_count": 6
        }
      ]
    },
    {
      "cell_type": "code",
      "source": [
        "# identifying where missing values are\n",
        "food_df.isnull().sum()"
      ],
      "metadata": {
        "colab": {
          "base_uri": "https://localhost:8080/"
        },
        "id": "iSgBhFphOx5S",
        "outputId": "4cb3d42c-f0be-41d8-bb0a-b2dbe8aabc3f"
      },
      "execution_count": 7,
      "outputs": [
        {
          "output_type": "execute_result",
          "data": {
            "text/plain": [
              "Item_Identifier                 0\n",
              "Item_Weight                  1463\n",
              "Item_Fat_Content                0\n",
              "Item_Visibility                 0\n",
              "Item_Type                       0\n",
              "Item_MRP                        0\n",
              "Outlet_Identifier               0\n",
              "Outlet_Establishment_Year       0\n",
              "Outlet_Size                  2410\n",
              "Outlet_Location_Type            0\n",
              "Outlet_Type                     0\n",
              "Item_Outlet_Sales               0\n",
              "dtype: int64"
            ]
          },
          "metadata": {},
          "execution_count": 7
        }
      ]
    },
    {
      "cell_type": "markdown",
      "source": [
        " - Ultimately decided to fill our missing values the median of our data since 0s would make no sense for item weight and there would've been too many rows dropped by the NaN values"
      ],
      "metadata": {
        "id": "l8WpYJi1FbBy"
      }
    },
    {
      "cell_type": "code",
      "source": [
        "# Replacing all NaN values with the median of our Item_Weight column \n",
        "food_df[\"Item_Weight\"] = food_df.loc[:, \"Item_Weight\"].fillna(food_df[\"Item_Weight\"].median())\n",
        "food_df.isnull().sum()"
      ],
      "metadata": {
        "colab": {
          "base_uri": "https://localhost:8080/"
        },
        "id": "Ym4-rL-v8CET",
        "outputId": "745f06e4-98a7-436d-a1de-542b4529cc5a"
      },
      "execution_count": 8,
      "outputs": [
        {
          "output_type": "execute_result",
          "data": {
            "text/plain": [
              "Item_Identifier                 0\n",
              "Item_Weight                     0\n",
              "Item_Fat_Content                0\n",
              "Item_Visibility                 0\n",
              "Item_Type                       0\n",
              "Item_MRP                        0\n",
              "Outlet_Identifier               0\n",
              "Outlet_Establishment_Year       0\n",
              "Outlet_Size                  2410\n",
              "Outlet_Location_Type            0\n",
              "Outlet_Type                     0\n",
              "Item_Outlet_Sales               0\n",
              "dtype: int64"
            ]
          },
          "metadata": {},
          "execution_count": 8
        }
      ]
    },
    {
      "cell_type": "markdown",
      "source": [
        "- I Decided to rename all NaN values for \"Outlet_Size\" to unknown for the same reason that we dont want to lose a lot of our data due to the unknown outlet sizes"
      ],
      "metadata": {
        "id": "y1cYKb8wMyxA"
      }
    },
    {
      "cell_type": "code",
      "source": [
        "# Filling all our NaN values for outlet size with \"Unknown\"\n",
        "food_df[\"Outlet_Size\"] = food_df.loc[:, \"Outlet_Size\"].fillna(\"Unknown\")"
      ],
      "metadata": {
        "id": "clAk7hra9JWk"
      },
      "execution_count": 9,
      "outputs": []
    },
    {
      "cell_type": "code",
      "source": [
        "# Confirming that there is no missing data in our data frame\n",
        "food_df.isnull().sum()"
      ],
      "metadata": {
        "colab": {
          "base_uri": "https://localhost:8080/"
        },
        "id": "KtTs4PjdGT-j",
        "outputId": "3ad10d11-75e8-4cee-beaa-c5427ddada2f"
      },
      "execution_count": 10,
      "outputs": [
        {
          "output_type": "execute_result",
          "data": {
            "text/plain": [
              "Item_Identifier              0\n",
              "Item_Weight                  0\n",
              "Item_Fat_Content             0\n",
              "Item_Visibility              0\n",
              "Item_Type                    0\n",
              "Item_MRP                     0\n",
              "Outlet_Identifier            0\n",
              "Outlet_Establishment_Year    0\n",
              "Outlet_Size                  0\n",
              "Outlet_Location_Type         0\n",
              "Outlet_Type                  0\n",
              "Item_Outlet_Sales            0\n",
              "dtype: int64"
            ]
          },
          "metadata": {},
          "execution_count": 10
        }
      ]
    },
    {
      "cell_type": "code",
      "source": [
        "# slicing our object data types \n",
        "str_cols = food_dtypes[food_dtypes == \"object\"].index\n",
        "str_cols"
      ],
      "metadata": {
        "colab": {
          "base_uri": "https://localhost:8080/"
        },
        "id": "CSVkacMaNvGs",
        "outputId": "ca87fa55-5d19-4e1b-b4b5-eaa195808e6e"
      },
      "execution_count": 11,
      "outputs": [
        {
          "output_type": "execute_result",
          "data": {
            "text/plain": [
              "Index(['Item_Identifier', 'Item_Fat_Content', 'Item_Type', 'Outlet_Identifier',\n",
              "       'Outlet_Size', 'Outlet_Location_Type', 'Outlet_Type'],\n",
              "      dtype='object')"
            ]
          },
          "metadata": {},
          "execution_count": 11
        }
      ]
    },
    {
      "cell_type": "code",
      "source": [
        "# Checking for syntax errors \n",
        "for col in str_cols:\n",
        "  print(f\"Column: {col}\")\n",
        "  print(food_df[col].value_counts())\n",
        "  print(\"\\n\\n\")"
      ],
      "metadata": {
        "colab": {
          "base_uri": "https://localhost:8080/"
        },
        "id": "ScsNWWiWN5OI",
        "outputId": "be102408-223e-4af8-93e7-aadd4d6e396f"
      },
      "execution_count": 12,
      "outputs": [
        {
          "output_type": "stream",
          "name": "stdout",
          "text": [
            "Column: Item_Identifier\n",
            "FDW13    10\n",
            "FDG33    10\n",
            "NCY18     9\n",
            "FDD38     9\n",
            "DRE49     9\n",
            "         ..\n",
            "FDY43     1\n",
            "FDQ60     1\n",
            "FDO33     1\n",
            "DRF48     1\n",
            "FDC23     1\n",
            "Name: Item_Identifier, Length: 1559, dtype: int64\n",
            "\n",
            "\n",
            "\n",
            "Column: Item_Fat_Content\n",
            "Low Fat    5089\n",
            "Regular    2889\n",
            "LF          316\n",
            "reg         117\n",
            "low fat     112\n",
            "Name: Item_Fat_Content, dtype: int64\n",
            "\n",
            "\n",
            "\n",
            "Column: Item_Type\n",
            "Fruits and Vegetables    1232\n",
            "Snack Foods              1200\n",
            "Household                 910\n",
            "Frozen Foods              856\n",
            "Dairy                     682\n",
            "Canned                    649\n",
            "Baking Goods              648\n",
            "Health and Hygiene        520\n",
            "Soft Drinks               445\n",
            "Meat                      425\n",
            "Breads                    251\n",
            "Hard Drinks               214\n",
            "Others                    169\n",
            "Starchy Foods             148\n",
            "Breakfast                 110\n",
            "Seafood                    64\n",
            "Name: Item_Type, dtype: int64\n",
            "\n",
            "\n",
            "\n",
            "Column: Outlet_Identifier\n",
            "OUT027    935\n",
            "OUT013    932\n",
            "OUT049    930\n",
            "OUT046    930\n",
            "OUT035    930\n",
            "OUT045    929\n",
            "OUT018    928\n",
            "OUT017    926\n",
            "OUT010    555\n",
            "OUT019    528\n",
            "Name: Outlet_Identifier, dtype: int64\n",
            "\n",
            "\n",
            "\n",
            "Column: Outlet_Size\n",
            "Medium     2793\n",
            "Unknown    2410\n",
            "Small      2388\n",
            "High        932\n",
            "Name: Outlet_Size, dtype: int64\n",
            "\n",
            "\n",
            "\n",
            "Column: Outlet_Location_Type\n",
            "Tier 3    3350\n",
            "Tier 2    2785\n",
            "Tier 1    2388\n",
            "Name: Outlet_Location_Type, dtype: int64\n",
            "\n",
            "\n",
            "\n",
            "Column: Outlet_Type\n",
            "Supermarket Type1    5577\n",
            "Grocery Store        1083\n",
            "Supermarket Type3     935\n",
            "Supermarket Type2     928\n",
            "Name: Outlet_Type, dtype: int64\n",
            "\n",
            "\n",
            "\n"
          ]
        }
      ]
    },
    {
      "cell_type": "code",
      "source": [
        "# fixing syntax errors in Item_Fat_Content\n",
        "fat_count_map = {\"LF\": \"Low Fat\",\n",
        "                 \"low fat\": \"Low Fat\",\n",
        "                 \"reg\": \"Regular\"}\n",
        "\n",
        "food_df[\"Item_Fat_Content\"] = food_df[\"Item_Fat_Content\"].replace(fat_count_map)\n",
        "food_df[\"Item_Fat_Content\"].unique()"
      ],
      "metadata": {
        "colab": {
          "base_uri": "https://localhost:8080/"
        },
        "id": "pqZemnH8OQ3Y",
        "outputId": "4f1f3943-f8a5-4f73-a660-975bb9616521"
      },
      "execution_count": 13,
      "outputs": [
        {
          "output_type": "execute_result",
          "data": {
            "text/plain": [
              "array(['Low Fat', 'Regular'], dtype=object)"
            ]
          },
          "metadata": {},
          "execution_count": 13
        }
      ]
    },
    {
      "cell_type": "markdown",
      "source": [
        ""
      ],
      "metadata": {
        "id": "9BTmlAq1SXog"
      }
    },
    {
      "cell_type": "code",
      "source": [
        "# printing min max min for numerical data\n",
        "float_cols = food_dtypes[food_dtypes == \"float64\"].index\n",
        "\n",
        "for col in float_cols:\n",
        "  print(f\"Column: {col}:\")\n",
        "  print(f\"Min:\\t {food_df[col].min()}\")\n",
        "  print(f\"Max:\\t {food_df[col].max()}\")\n",
        "  print(f\"Mean:\\t {food_df[col].mean()}\")\n",
        "  print(\"\\n\")\n",
        "\n"
      ],
      "metadata": {
        "colab": {
          "base_uri": "https://localhost:8080/"
        },
        "id": "DhlhJJAgQ8Wk",
        "outputId": "a1c3deff-9001-4f45-93c7-b2d4562c15e5"
      },
      "execution_count": 14,
      "outputs": [
        {
          "output_type": "stream",
          "name": "stdout",
          "text": [
            "Column: Item_Weight:\n",
            "Min:\t 4.555\n",
            "Max:\t 21.35\n",
            "Mean:\t 12.813419570574444\n",
            "\n",
            "\n",
            "Column: Item_Visibility:\n",
            "Min:\t 0.0\n",
            "Max:\t 0.328390948\n",
            "Mean:\t 0.06613202877895127\n",
            "\n",
            "\n",
            "Column: Item_MRP:\n",
            "Min:\t 31.29\n",
            "Max:\t 266.8884\n",
            "Mean:\t 140.9927819781768\n",
            "\n",
            "\n",
            "Column: Item_Outlet_Sales:\n",
            "Min:\t 33.29\n",
            "Max:\t 13086.9648\n",
            "Mean:\t 2181.2889135750365\n",
            "\n",
            "\n"
          ]
        }
      ]
    },
    {
      "cell_type": "code",
      "source": [
        "food_df[\"Outlet_Type\"].value_counts()"
      ],
      "metadata": {
        "colab": {
          "base_uri": "https://localhost:8080/"
        },
        "id": "PjlxpW3ZbOhL",
        "outputId": "bf419b27-5110-48b3-b8cb-794d7cde6af7"
      },
      "execution_count": 15,
      "outputs": [
        {
          "output_type": "execute_result",
          "data": {
            "text/plain": [
              "Supermarket Type1    5577\n",
              "Grocery Store        1083\n",
              "Supermarket Type3     935\n",
              "Supermarket Type2     928\n",
              "Name: Outlet_Type, dtype: int64"
            ]
          },
          "metadata": {},
          "execution_count": 15
        }
      ]
    },
    {
      "cell_type": "markdown",
      "source": [
        "# Food Sales Prediciton Part 3"
      ],
      "metadata": {
        "id": "BsdwBtbPdvQf"
      }
    },
    {
      "cell_type": "code",
      "source": [
        "# function to set x and y fonts\n",
        "def set_fonts(ax):\n",
        "  for label in (ax.get_xticklabels() + ax.get_yticklabels()):\n",
        "    label.set_fontsize(15)"
      ],
      "metadata": {
        "id": "jnwLAGKzH_wk"
      },
      "execution_count": 16,
      "outputs": []
    },
    {
      "cell_type": "markdown",
      "source": [
        "- Seeing where our distribution of item price is and how often they appear"
      ],
      "metadata": {
        "id": "gJjl0-ly8YNP"
      }
    },
    {
      "cell_type": "code",
      "source": [
        "fig, ax = plt.subplots(figsize=(12,8))\n",
        "sns.set_theme()\n",
        "\n",
        "set_fonts(ax)\n",
        "\n",
        "ax = sns.histplot(data=food_df, x=\"Item_MRP\", color=\"blue\")\n",
        "median = food_df[\"Item_MRP\"].median()\n",
        "\n",
        "ax.axvline(median, color=\"black\", linestyle=\"--\",\n",
        "           linewidth=2.5,\n",
        "            label=f\"Median = {median}\")\n",
        "ax.legend()\n",
        "ax.set(xlabel=\"Item Price ($)\", ylabel=\"Frequency\", \n",
        "       title=\"Distribution of Retail Price\", )\n"
      ],
      "metadata": {
        "colab": {
          "base_uri": "https://localhost:8080/",
          "height": 573
        },
        "id": "2gZwXH041aEs",
        "outputId": "9d31f1d1-ff3f-45b0-8f2d-072da7a1648f"
      },
      "execution_count": 17,
      "outputs": [
        {
          "output_type": "execute_result",
          "data": {
            "text/plain": [
              "[Text(0, 0.5, 'Frequency'),\n",
              " Text(0.5, 0, 'Item Price ($)'),\n",
              " Text(0.5, 1.0, 'Distribution of Retail Price')]"
            ]
          },
          "metadata": {},
          "execution_count": 17
        },
        {
          "output_type": "display_data",
          "data": {
            "image/png": "[encoded data removed]",
            "text/plain": [
              "<Figure size 864x576 with 1 Axes>"
            ]
          },
          "metadata": {
            "needs_background": "light"
          }
        }
      ]
    },
    {
      "cell_type": "markdown",
      "source": [
        "- Only moderately correlation between Item_Market_Price and Item_Outlet_Sales which would make sense because depending on the price of the item the more inclined or less inclined to buy the product. For example a 500'$' product might not sale as often as a 5'$' product. This doesn't necessarily mean causation"
      ],
      "metadata": {
        "id": "id4viNNqCi_w"
      }
    },
    {
      "cell_type": "code",
      "source": [
        "fig2, ax2 = plt.subplots(figsize=(12,8))\n",
        "corr = food_df.corr()\n",
        "plt.rcParams[\"font.size\"] = 15\n",
        "\n",
        "set_fonts(ax2)\n",
        "\n",
        "ax2 = sns.heatmap(corr, cmap=\"Reds\", linewidth=3, \n",
        "                  linecolor=\"black\",annot=True)\n",
        "\n",
        "ax2.set_title(\"Correlation Map\", fontsize=15)\n",
        "plt.xticks(rotation=40)"
      ],
      "metadata": {
        "colab": {
          "base_uri": "https://localhost:8080/",
          "height": 653
        },
        "id": "WmcQl4fs1qmB",
        "outputId": "796bf0aa-6846-4e8a-a862-7d030aaa1a4d"
      },
      "execution_count": 18,
      "outputs": [
        {
          "output_type": "execute_result",
          "data": {
            "text/plain": [
              "(array([0.5, 1.5, 2.5, 3.5, 4.5]), <a list of 5 Text major ticklabel objects>)"
            ]
          },
          "metadata": {},
          "execution_count": 18
        },
        {
          "output_type": "display_data",
          "data": {
            "image/png": "[encoded data removed]",
            "text/plain": [
              "<Figure size 864x576 with 2 Axes>"
            ]
          },
          "metadata": {}
        }
      ]
    },
    {
      "cell_type": "markdown",
      "source": [
        "# Food Sales Predicitons Part 4"
      ],
      "metadata": {
        "id": "Q2KmiXzXd8za"
      }
    },
    {
      "cell_type": "markdown",
      "source": [
        "- From the box plot we can see that the median sales for low fat and regular items is more or less around the same range but we have many outliers in both.\n",
        "They have identical IQRs"
      ],
      "metadata": {
        "id": "VWeQTLjbH7n4"
      }
    },
    {
      "cell_type": "code",
      "source": [
        "fig3, ax3 = plt.subplots(figsize=(12,8))\n",
        "\n",
        "ax3 = sns.boxplot(data=food_df, x=\"Item_Fat_Content\", y=\"Item_Outlet_Sales\", \n",
        "                 notch=True, width=0.7, medianprops = dict(linestyle=\"-\", linewidth=2, color=\"Yellow\"),\n",
        "                 boxprops = dict(linestyle=\"-\", linewidth=2))\n",
        "set_fonts(ax3)\n"
      ],
      "metadata": {
        "colab": {
          "base_uri": "https://localhost:8080/",
          "height": 506
        },
        "id": "7rCEHfap8qR0",
        "outputId": "ca63c43a-2b26-4438-dd6f-eab8590885b4"
      },
      "execution_count": 19,
      "outputs": [
        {
          "output_type": "display_data",
          "data": {
            "image/png": "[encoded data removed]",
            "text/plain": [
              "<Figure size 864x576 with 1 Axes>"
            ]
          },
          "metadata": {}
        }
      ]
    },
    {
      "cell_type": "code",
      "source": [
        "food_df"
      ],
      "metadata": {
        "id": "zf2y3xHTLOmU",
        "colab": {
          "base_uri": "https://localhost:8080/",
          "height": 661
        },
        "outputId": "47a8d590-9df3-4423-e8ff-6b9a9ba538b5"
      },
      "execution_count": 20,
      "outputs": [
        {
          "output_type": "execute_result",
          "data": {
            "text/html": [
              "\n",
              "  <div id=\"df-e5e7e860-752f-4def-b08a-ef4374f484b1\">\n",
              "    <div class=\"colab-df-container\">\n",
              "      <div>\n",
              "<style scoped>\n",
              "    .dataframe tbody tr th:only-of-type {\n",
              "        vertical-align: middle;\n",
              "    }\n",
              "\n",
              "    .dataframe tbody tr th {\n",
              "        vertical-align: top;\n",
              "    }\n",
              "\n",
              "    .dataframe thead th {\n",
              "        text-align: right;\n",
              "    }\n",
              "</style>\n",
              "<table border=\"1\" class=\"dataframe\">\n",
              "  <thead>\n",
              "    <tr style=\"text-align: right;\">\n",
              "      <th></th>\n",
              "      <th>Item_Identifier</th>\n",
              "      <th>Item_Weight</th>\n",
              "      <th>Item_Fat_Content</th>\n",
              "      <th>Item_Visibility</th>\n",
              "      <th>Item_Type</th>\n",
              "      <th>Item_MRP</th>\n",
              "      <th>Outlet_Identifier</th>\n",
              "      <th>Outlet_Establishment_Year</th>\n",
              "      <th>Outlet_Size</th>\n",
              "      <th>Outlet_Location_Type</th>\n",
              "      <th>Outlet_Type</th>\n",
              "      <th>Item_Outlet_Sales</th>\n",
              "    </tr>\n",
              "  </thead>\n",
              "  <tbody>\n",
              "    <tr>\n",
              "      <th>0</th>\n",
              "      <td>FDA15</td>\n",
              "      <td>9.300</td>\n",
              "      <td>Low Fat</td>\n",
              "      <td>0.016047</td>\n",
              "      <td>Dairy</td>\n",
              "      <td>249.8092</td>\n",
              "      <td>OUT049</td>\n",
              "      <td>1999</td>\n",
              "      <td>Medium</td>\n",
              "      <td>Tier 1</td>\n",
              "      <td>Supermarket Type1</td>\n",
              "      <td>3735.1380</td>\n",
              "    </tr>\n",
              "    <tr>\n",
              "      <th>1</th>\n",
              "      <td>DRC01</td>\n",
              "      <td>5.920</td>\n",
              "      <td>Regular</td>\n",
              "      <td>0.019278</td>\n",
              "      <td>Soft Drinks</td>\n",
              "      <td>48.2692</td>\n",
              "      <td>OUT018</td>\n",
              "      <td>2009</td>\n",
              "      <td>Medium</td>\n",
              "      <td>Tier 3</td>\n",
              "      <td>Supermarket Type2</td>\n",
              "      <td>443.4228</td>\n",
              "    </tr>\n",
              "    <tr>\n",
              "      <th>2</th>\n",
              "      <td>FDN15</td>\n",
              "      <td>17.500</td>\n",
              "      <td>Low Fat</td>\n",
              "      <td>0.016760</td>\n",
              "      <td>Meat</td>\n",
              "      <td>141.6180</td>\n",
              "      <td>OUT049</td>\n",
              "      <td>1999</td>\n",
              "      <td>Medium</td>\n",
              "      <td>Tier 1</td>\n",
              "      <td>Supermarket Type1</td>\n",
              "      <td>2097.2700</td>\n",
              "    </tr>\n",
              "    <tr>\n",
              "      <th>3</th>\n",
              "      <td>FDX07</td>\n",
              "      <td>19.200</td>\n",
              "      <td>Regular</td>\n",
              "      <td>0.000000</td>\n",
              "      <td>Fruits and Vegetables</td>\n",
              "      <td>182.0950</td>\n",
              "      <td>OUT010</td>\n",
              "      <td>1998</td>\n",
              "      <td>Unknown</td>\n",
              "      <td>Tier 3</td>\n",
              "      <td>Grocery Store</td>\n",
              "      <td>732.3800</td>\n",
              "    </tr>\n",
              "    <tr>\n",
              "      <th>4</th>\n",
              "      <td>NCD19</td>\n",
              "      <td>8.930</td>\n",
              "      <td>Low Fat</td>\n",
              "      <td>0.000000</td>\n",
              "      <td>Household</td>\n",
              "      <td>53.8614</td>\n",
              "      <td>OUT013</td>\n",
              "      <td>1987</td>\n",
              "      <td>High</td>\n",
              "      <td>Tier 3</td>\n",
              "      <td>Supermarket Type1</td>\n",
              "      <td>994.7052</td>\n",
              "    </tr>\n",
              "    <tr>\n",
              "      <th>...</th>\n",
              "      <td>...</td>\n",
              "      <td>...</td>\n",
              "      <td>...</td>\n",
              "      <td>...</td>\n",
              "      <td>...</td>\n",
              "      <td>...</td>\n",
              "      <td>...</td>\n",
              "      <td>...</td>\n",
              "      <td>...</td>\n",
              "      <td>...</td>\n",
              "      <td>...</td>\n",
              "      <td>...</td>\n",
              "    </tr>\n",
              "    <tr>\n",
              "      <th>8518</th>\n",
              "      <td>FDF22</td>\n",
              "      <td>6.865</td>\n",
              "      <td>Low Fat</td>\n",
              "      <td>0.056783</td>\n",
              "      <td>Snack Foods</td>\n",
              "      <td>214.5218</td>\n",
              "      <td>OUT013</td>\n",
              "      <td>1987</td>\n",
              "      <td>High</td>\n",
              "      <td>Tier 3</td>\n",
              "      <td>Supermarket Type1</td>\n",
              "      <td>2778.3834</td>\n",
              "    </tr>\n",
              "    <tr>\n",
              "      <th>8519</th>\n",
              "      <td>FDS36</td>\n",
              "      <td>8.380</td>\n",
              "      <td>Regular</td>\n",
              "      <td>0.046982</td>\n",
              "      <td>Baking Goods</td>\n",
              "      <td>108.1570</td>\n",
              "      <td>OUT045</td>\n",
              "      <td>2002</td>\n",
              "      <td>Unknown</td>\n",
              "      <td>Tier 2</td>\n",
              "      <td>Supermarket Type1</td>\n",
              "      <td>549.2850</td>\n",
              "    </tr>\n",
              "    <tr>\n",
              "      <th>8520</th>\n",
              "      <td>NCJ29</td>\n",
              "      <td>10.600</td>\n",
              "      <td>Low Fat</td>\n",
              "      <td>0.035186</td>\n",
              "      <td>Health and Hygiene</td>\n",
              "      <td>85.1224</td>\n",
              "      <td>OUT035</td>\n",
              "      <td>2004</td>\n",
              "      <td>Small</td>\n",
              "      <td>Tier 2</td>\n",
              "      <td>Supermarket Type1</td>\n",
              "      <td>1193.1136</td>\n",
              "    </tr>\n",
              "    <tr>\n",
              "      <th>8521</th>\n",
              "      <td>FDN46</td>\n",
              "      <td>7.210</td>\n",
              "      <td>Regular</td>\n",
              "      <td>0.145221</td>\n",
              "      <td>Snack Foods</td>\n",
              "      <td>103.1332</td>\n",
              "      <td>OUT018</td>\n",
              "      <td>2009</td>\n",
              "      <td>Medium</td>\n",
              "      <td>Tier 3</td>\n",
              "      <td>Supermarket Type2</td>\n",
              "      <td>1845.5976</td>\n",
              "    </tr>\n",
              "    <tr>\n",
              "      <th>8522</th>\n",
              "      <td>DRG01</td>\n",
              "      <td>14.800</td>\n",
              "      <td>Low Fat</td>\n",
              "      <td>0.044878</td>\n",
              "      <td>Soft Drinks</td>\n",
              "      <td>75.4670</td>\n",
              "      <td>OUT046</td>\n",
              "      <td>1997</td>\n",
              "      <td>Small</td>\n",
              "      <td>Tier 1</td>\n",
              "      <td>Supermarket Type1</td>\n",
              "      <td>765.6700</td>\n",
              "    </tr>\n",
              "  </tbody>\n",
              "</table>\n",
              "<p>8523 rows × 12 columns</p>\n",
              "</div>\n",
              "      <button class=\"colab-df-convert\" onclick=\"convertToInteractive('df-e5e7e860-752f-4def-b08a-ef4374f484b1')\"\n",
              "              title=\"Convert this dataframe to an interactive table.\"\n",
              "              style=\"display:none;\">\n",
              "        \n",
              "  <svg xmlns=\"http://www.w3.org/2000/svg\" height=\"24px\"viewBox=\"0 0 24 24\"\n",
              "       width=\"24px\">\n",
              "    <path d=\"M0 0h24v24H0V0z\" fill=\"none\"/>\n",
              "    <path d=\"M18.56 5.44l.94 2.06.94-2.06 2.06-.94-2.06-.94-.94-2.06-.94 2.06-2.06.94zm-11 1L8.5 8.5l.94-2.06 2.06-.94-2.06-.94L8.5 2.5l-.94 2.06-2.06.94zm10 10l.94 2.06.94-2.06 2.06-.94-2.06-.94-.94-2.06-.94 2.06-2.06.94z\"/><path d=\"M17.41 7.96l-1.37-1.37c-.4-.4-.92-.59-1.43-.59-.52 0-1.04.2-1.43.59L10.3 9.45l-7.72 7.72c-.78.78-.78 2.05 0 2.83L4 21.41c.39.39.9.59 1.41.59.51 0 1.02-.2 1.41-.59l7.78-7.78 2.81-2.81c.8-.78.8-2.07 0-2.86zM5.41 20L4 18.59l7.72-7.72 1.47 1.35L5.41 20z\"/>\n",
              "  </svg>\n",
              "      </button>\n",
              "      \n",
              "  <style>\n",
              "    .colab-df-container {\n",
              "      display:flex;\n",
              "      flex-wrap:wrap;\n",
              "      gap: 12px;\n",
              "    }\n",
              "\n",
              "    .colab-df-convert {\n",
              "      background-color: #E8F0FE;\n",
              "      border: none;\n",
              "      border-radius: 50%;\n",
              "      cursor: pointer;\n",
              "      display: none;\n",
              "      fill: #1967D2;\n",
              "      height: 32px;\n",
              "      padding: 0 0 0 0;\n",
              "      width: 32px;\n",
              "    }\n",
              "\n",
              "    .colab-df-convert:hover {\n",
              "      background-color: #E2EBFA;\n",
              "      box-shadow: 0px 1px 2px rgba(60, 64, 67, 0.3), 0px 1px 3px 1px rgba(60, 64, 67, 0.15);\n",
              "      fill: #174EA6;\n",
              "    }\n",
              "\n",
              "    [theme=dark] .colab-df-convert {\n",
              "      background-color: #3B4455;\n",
              "      fill: #D2E3FC;\n",
              "    }\n",
              "\n",
              "    [theme=dark] .colab-df-convert:hover {\n",
              "      background-color: #434B5C;\n",
              "      box-shadow: 0px 1px 3px 1px rgba(0, 0, 0, 0.15);\n",
              "      filter: drop-shadow(0px 1px 2px rgba(0, 0, 0, 0.3));\n",
              "      fill: #FFFFFF;\n",
              "    }\n",
              "  </style>\n",
              "\n",
              "      <script>\n",
              "        const buttonEl =\n",
              "          document.querySelector('#df-e5e7e860-752f-4def-b08a-ef4374f484b1 button.colab-df-convert');\n",
              "        buttonEl.style.display =\n",
              "          google.colab.kernel.accessAllowed ? 'block' : 'none';\n",
              "\n",
              "        async function convertToInteractive(key) {\n",
              "          const element = document.querySelector('#df-e5e7e860-752f-4def-b08a-ef4374f484b1');\n",
              "          const dataTable =\n",
              "            await google.colab.kernel.invokeFunction('convertToInteractive',\n",
              "                                                     [key], {});\n",
              "          if (!dataTable) return;\n",
              "\n",
              "          const docLinkHtml = 'Like what you see? Visit the ' +\n",
              "            '<a target=\"_blank\" href=https://colab.research.google.com/notebooks/data_table.ipynb>data table notebook</a>'\n",
              "            + ' to learn more about interactive tables.';\n",
              "          element.innerHTML = '';\n",
              "          dataTable['output_type'] = 'display_data';\n",
              "          await google.colab.output.renderOutput(dataTable, element);\n",
              "          const docLink = document.createElement('div');\n",
              "          docLink.innerHTML = docLinkHtml;\n",
              "          element.appendChild(docLink);\n",
              "        }\n",
              "      </script>\n",
              "    </div>\n",
              "  </div>\n",
              "  "
            ],
            "text/plain": [
              "     Item_Identifier  Item_Weight Item_Fat_Content  Item_Visibility  \\\n",
              "0              FDA15        9.300          Low Fat         0.016047   \n",
              "1              DRC01        5.920          Regular         0.019278   \n",
              "2              FDN15       17.500          Low Fat         0.016760   \n",
              "3              FDX07       19.200          Regular         0.000000   \n",
              "4              NCD19        8.930          Low Fat         0.000000   \n",
              "...              ...          ...              ...              ...   \n",
              "8518           FDF22        6.865          Low Fat         0.056783   \n",
              "8519           FDS36        8.380          Regular         0.046982   \n",
              "8520           NCJ29       10.600          Low Fat         0.035186   \n",
              "8521           FDN46        7.210          Regular         0.145221   \n",
              "8522           DRG01       14.800          Low Fat         0.044878   \n",
              "\n",
              "                  Item_Type  Item_MRP Outlet_Identifier  \\\n",
              "0                     Dairy  249.8092            OUT049   \n",
              "1               Soft Drinks   48.2692            OUT018   \n",
              "2                      Meat  141.6180            OUT049   \n",
              "3     Fruits and Vegetables  182.0950            OUT010   \n",
              "4                 Household   53.8614            OUT013   \n",
              "...                     ...       ...               ...   \n",
              "8518            Snack Foods  214.5218            OUT013   \n",
              "8519           Baking Goods  108.1570            OUT045   \n",
              "8520     Health and Hygiene   85.1224            OUT035   \n",
              "8521            Snack Foods  103.1332            OUT018   \n",
              "8522            Soft Drinks   75.4670            OUT046   \n",
              "\n",
              "      Outlet_Establishment_Year Outlet_Size Outlet_Location_Type  \\\n",
              "0                          1999      Medium               Tier 1   \n",
              "1                          2009      Medium               Tier 3   \n",
              "2                          1999      Medium               Tier 1   \n",
              "3                          1998     Unknown               Tier 3   \n",
              "4                          1987        High               Tier 3   \n",
              "...                         ...         ...                  ...   \n",
              "8518                       1987        High               Tier 3   \n",
              "8519                       2002     Unknown               Tier 2   \n",
              "8520                       2004       Small               Tier 2   \n",
              "8521                       2009      Medium               Tier 3   \n",
              "8522                       1997       Small               Tier 1   \n",
              "\n",
              "            Outlet_Type  Item_Outlet_Sales  \n",
              "0     Supermarket Type1          3735.1380  \n",
              "1     Supermarket Type2           443.4228  \n",
              "2     Supermarket Type1          2097.2700  \n",
              "3         Grocery Store           732.3800  \n",
              "4     Supermarket Type1           994.7052  \n",
              "...                 ...                ...  \n",
              "8518  Supermarket Type1          2778.3834  \n",
              "8519  Supermarket Type1           549.2850  \n",
              "8520  Supermarket Type1          1193.1136  \n",
              "8521  Supermarket Type2          1845.5976  \n",
              "8522  Supermarket Type1           765.6700  \n",
              "\n",
              "[8523 rows x 12 columns]"
            ]
          },
          "metadata": {},
          "execution_count": 20
        }
      ]
    },
    {
      "cell_type": "markdown",
      "source": [
        "- Making a bargraph to examine the sales according to size of the store and Tier. We can see that the medium size stores have higher sales than all other categories. We can also see that certain sizes do not have certian tiers. "
      ],
      "metadata": {
        "id": "ZGrsrvxNtpxT"
      }
    },
    {
      "cell_type": "code",
      "source": [
        "fig4, ax4 = plt.subplots(nrows=1, ncols=1, figsize=(12,10))\n",
        "sns.set(font_scale=2)\n",
        "\n",
        "ax4 = sns.barplot(data=food_df, x=\"Outlet_Size\", y=\"Item_Outlet_Sales\", hue=\"Outlet_Location_Type\")\n",
        "ax4.grid(\"darkgrid\", axis=\"y\", color=\"black\", alpha=0.2)\n",
        "\n",
        "ax4.set_xlabel(\"Size of Store\", fontsize=15)\n",
        "ax4.set_ylabel(\"Sales ($)\", fontsize=15)\n",
        "ax4.set_title(\"Food Sales According to Size and Tier\")\n",
        "ax4.legend()"
      ],
      "metadata": {
        "colab": {
          "base_uri": "https://localhost:8080/",
          "height": 656
        },
        "id": "tcqRFKbLq92L",
        "outputId": "b6a84ccf-82ee-4d1f-cb50-2c2f7a480294"
      },
      "execution_count": 21,
      "outputs": [
        {
          "output_type": "execute_result",
          "data": {
            "text/plain": [
              "<matplotlib.legend.Legend at 0x7f87ca5beed0>"
            ]
          },
          "metadata": {},
          "execution_count": 21
        },
        {
          "output_type": "display_data",
          "data": {
            "image/png": "[encoded data removed]",
            "text/plain": [
              "<Figure size 864x720 with 1 Axes>"
            ]
          },
          "metadata": {}
        }
      ]
    },
    {
      "cell_type": "markdown",
      "source": [
        "- Ranking the sales of each item type"
      ],
      "metadata": {
        "id": "Z5j1AgZh3xZY"
      }
    },
    {
      "cell_type": "code",
      "source": [
        "fig5, ax5 = plt.subplots(nrows=1, ncols=1, figsize=(12,10))\n",
        "ax5 = sns.barplot(data=food_df, x=\"Item_Type\", y=\"Item_Outlet_Sales\")\n",
        "\n",
        "set_fonts(ax5)\n",
        "plt.xticks(rotation=90)\n",
        "plt.title(\"Ranking of Sales Between Items\", fontsize=16)\n",
        "plt.xlabel(\"Item Type\", fontsize=16)\n",
        "plt.ylabel(\"Item Sales ($)\", fontsize=16)"
      ],
      "metadata": {
        "colab": {
          "base_uri": "https://localhost:8080/",
          "height": 802
        },
        "id": "IWl5HS8HryAK",
        "outputId": "da230eae-e9f7-48a3-dc59-048205421f27"
      },
      "execution_count": 22,
      "outputs": [
        {
          "output_type": "execute_result",
          "data": {
            "text/plain": [
              "Text(0, 0.5, 'Item Sales ($)')"
            ]
          },
          "metadata": {},
          "execution_count": 22
        },
        {
          "output_type": "display_data",
          "data": {
            "image/png": "[encoded data removed]",
            "text/plain": [
              "<Figure size 864x720 with 1 Axes>"
            ]
          },
          "metadata": {}
        }
      ]
    },
    {
      "cell_type": "markdown",
      "source": [
        "- With a kdeplot we can check the density of Item sales per Outlet_Type so we can see the density of item sales according to their outlet type. So we can see the distribution sales between outlet types"
      ],
      "metadata": {
        "id": "3fEXF2mV5_bt"
      }
    },
    {
      "cell_type": "code",
      "source": [
        "fig6, ax6 = plt.subplots(nrows=1, ncols=1, figsize=(12,10))\n",
        "\n",
        "ax6 = sns.kdeplot(data=food_df, x=\"Item_Outlet_Sales\", hue=\"Outlet_Type\", cut=0,\n",
        "                  fill=True)\n",
        "set_fonts(ax6)\n",
        "ax6.set_xlabel(\"Item Sales ($)\", fontsize=16)\n",
        "ax6.set_ylabel(\"Density\", fontsize=16)\n",
        "ax6.set_title(\"Density of Sales per Outlet Type\", fontsize=16)"
      ],
      "metadata": {
        "colab": {
          "base_uri": "https://localhost:8080/",
          "height": 654
        },
        "id": "eY8izap5v3AC",
        "outputId": "77051beb-318e-40ee-eed9-1b34376fefc2"
      },
      "execution_count": 23,
      "outputs": [
        {
          "output_type": "execute_result",
          "data": {
            "text/plain": [
              "Text(0.5, 1.0, 'Density of Sales per Outlet Type')"
            ]
          },
          "metadata": {},
          "execution_count": 23
        },
        {
          "output_type": "display_data",
          "data": {
            "image/png": "[encoded data removed]",
            "text/plain": [
              "<Figure size 864x720 with 1 Axes>"
            ]
          },
          "metadata": {}
        }
      ]
    },
    {
      "cell_type": "markdown",
      "source": [
        "# Food Sales Predictions Part 5"
      ],
      "metadata": {
        "id": "LOb8aYBSa7Hr"
      }
    },
    {
      "cell_type": "markdown",
      "source": [
        "- Decided to drop Item_Identifier and Outlet_Identifier because they aren't related to predicting future sales. I also made a new df for preprocessing to impute the missing values."
      ],
      "metadata": {
        "id": "PUDUOqfNWu0E"
      }
    },
    {
      "cell_type": "code",
      "source": [
        "food_df_preprocessing.info()"
      ],
      "metadata": {
        "colab": {
          "base_uri": "https://localhost:8080/"
        },
        "id": "GUPFbf0zZtNK",
        "outputId": "5b6c3d35-7d98-4762-80ce-82a328b09001"
      },
      "execution_count": 24,
      "outputs": [
        {
          "output_type": "stream",
          "name": "stdout",
          "text": [
            "<class 'pandas.core.frame.DataFrame'>\n",
            "RangeIndex: 8523 entries, 0 to 8522\n",
            "Data columns (total 12 columns):\n",
            " #   Column                     Non-Null Count  Dtype  \n",
            "---  ------                     --------------  -----  \n",
            " 0   Item_Identifier            8523 non-null   object \n",
            " 1   Item_Weight                7060 non-null   float64\n",
            " 2   Item_Fat_Content           8523 non-null   object \n",
            " 3   Item_Visibility            8523 non-null   float64\n",
            " 4   Item_Type                  8523 non-null   object \n",
            " 5   Item_MRP                   8523 non-null   float64\n",
            " 6   Outlet_Identifier          8523 non-null   object \n",
            " 7   Outlet_Establishment_Year  8523 non-null   int64  \n",
            " 8   Outlet_Size                6113 non-null   object \n",
            " 9   Outlet_Location_Type       8523 non-null   object \n",
            " 10  Outlet_Type                8523 non-null   object \n",
            " 11  Item_Outlet_Sales          8523 non-null   float64\n",
            "dtypes: float64(4), int64(1), object(7)\n",
            "memory usage: 799.2+ KB\n"
          ]
        }
      ]
    },
    {
      "cell_type": "code",
      "source": [
        "# splitting our data for preprocessing\n",
        "y = food_df_preprocessing[\"Item_Outlet_Sales\"]\n",
        "X = food_df_preprocessing.drop(columns=[\"Item_Outlet_Sales\", \"Item_Identifier\", \"Outlet_Identifier\"])\n",
        "\n",
        "X_train, X_test, y_train, y_test = train_test_split(X, y, random_state=42)"
      ],
      "metadata": {
        "id": "KO8s_AknV1tg"
      },
      "execution_count": 25,
      "outputs": []
    },
    {
      "cell_type": "code",
      "source": [
        "# making our selectors\n",
        "cat_selector = make_column_selector(dtype_include=\"object\")\n",
        "num_selector = make_column_selector(dtype_include=\"number\")"
      ],
      "metadata": {
        "id": "cOjwCBhiYbsV"
      },
      "execution_count": 26,
      "outputs": []
    },
    {
      "cell_type": "code",
      "source": [
        "# making imputers, scaler, and OHE\n",
        "freq_imputer = SimpleImputer(strategy=\"most_frequent\")\n",
        "mean_imputer = SimpleImputer(strategy=\"mean\")\n",
        "\n",
        "scaler = StandardScaler()\n",
        "\n",
        "ohe = OneHotEncoder(handle_unknown=\"ignore\", sparse=False)"
      ],
      "metadata": {
        "id": "ZEOjjaTiZuDL"
      },
      "execution_count": 27,
      "outputs": []
    },
    {
      "cell_type": "code",
      "source": [
        "# making our pipelines\n",
        "num_pipe = make_pipeline(mean_imputer, scaler)\n",
        "cat_pipe = make_pipeline(freq_imputer, ohe)"
      ],
      "metadata": {
        "id": "e_Il8ukab2uL"
      },
      "execution_count": 28,
      "outputs": []
    },
    {
      "cell_type": "code",
      "source": [
        "# setting up tuples so we can make our column transformer\n",
        "num_tup = (num_pipe, num_selector)\n",
        "cat_tup = (cat_pipe, cat_selector)\n",
        "\n",
        "preprocessor = make_column_transformer(num_tup, cat_tup)\n",
        "preprocessor"
      ],
      "metadata": {
        "colab": {
          "base_uri": "https://localhost:8080/",
          "height": 153
        },
        "id": "vhGIx9cTcEDc",
        "outputId": "dfb4f244-b743-467c-8c98-64cef4963769"
      },
      "execution_count": 29,
      "outputs": [
        {
          "output_type": "execute_result",
          "data": {
            "text/html": [
              "<style>#sk-1d4806e0-db7f-4fce-b5c6-f49b033d228a {color: black;background-color: white;}#sk-1d4806e0-db7f-4fce-b5c6-f49b033d228a pre{padding: 0;}#sk-1d4806e0-db7f-4fce-b5c6-f49b033d228a div.sk-toggleable {background-color: white;}#sk-1d4806e0-db7f-4fce-b5c6-f49b033d228a label.sk-toggleable__label {cursor: pointer;display: block;width: 100%;margin-bottom: 0;padding: 0.3em;box-sizing: border-box;text-align: center;}#sk-1d4806e0-db7f-4fce-b5c6-f49b033d228a label.sk-toggleable__label-arrow:before {content: \"▸\";float: left;margin-right: 0.25em;color: #696969;}#sk-1d4806e0-db7f-4fce-b5c6-f49b033d228a label.sk-toggleable__label-arrow:hover:before {color: black;}#sk-1d4806e0-db7f-4fce-b5c6-f49b033d228a div.sk-estimator:hover label.sk-toggleable__label-arrow:before {color: black;}#sk-1d4806e0-db7f-4fce-b5c6-f49b033d228a div.sk-toggleable__content {max-height: 0;max-width: 0;overflow: hidden;text-align: left;background-color: #f0f8ff;}#sk-1d4806e0-db7f-4fce-b5c6-f49b033d228a div.sk-toggleable__content pre {margin: 0.2em;color: black;border-radius: 0.25em;background-color: #f0f8ff;}#sk-1d4806e0-db7f-4fce-b5c6-f49b033d228a input.sk-toggleable__control:checked~div.sk-toggleable__content {max-height: 200px;max-width: 100%;overflow: auto;}#sk-1d4806e0-db7f-4fce-b5c6-f49b033d228a input.sk-toggleable__control:checked~label.sk-toggleable__label-arrow:before {content: \"▾\";}#sk-1d4806e0-db7f-4fce-b5c6-f49b033d228a div.sk-estimator input.sk-toggleable__control:checked~label.sk-toggleable__label {background-color: #d4ebff;}#sk-1d4806e0-db7f-4fce-b5c6-f49b033d228a div.sk-label input.sk-toggleable__control:checked~label.sk-toggleable__label {background-color: #d4ebff;}#sk-1d4806e0-db7f-4fce-b5c6-f49b033d228a input.sk-hidden--visually {border: 0;clip: rect(1px 1px 1px 1px);clip: rect(1px, 1px, 1px, 1px);height: 1px;margin: -1px;overflow: hidden;padding: 0;position: absolute;width: 1px;}#sk-1d4806e0-db7f-4fce-b5c6-f49b033d228a div.sk-estimator {font-family: monospace;background-color: #f0f8ff;border: 1px dotted black;border-radius: 0.25em;box-sizing: border-box;margin-bottom: 0.5em;}#sk-1d4806e0-db7f-4fce-b5c6-f49b033d228a div.sk-estimator:hover {background-color: #d4ebff;}#sk-1d4806e0-db7f-4fce-b5c6-f49b033d228a div.sk-parallel-item::after {content: \"\";width: 100%;border-bottom: 1px solid gray;flex-grow: 1;}#sk-1d4806e0-db7f-4fce-b5c6-f49b033d228a div.sk-label:hover label.sk-toggleable__label {background-color: #d4ebff;}#sk-1d4806e0-db7f-4fce-b5c6-f49b033d228a div.sk-serial::before {content: \"\";position: absolute;border-left: 1px solid gray;box-sizing: border-box;top: 2em;bottom: 0;left: 50%;}#sk-1d4806e0-db7f-4fce-b5c6-f49b033d228a div.sk-serial {display: flex;flex-direction: column;align-items: center;background-color: white;padding-right: 0.2em;padding-left: 0.2em;}#sk-1d4806e0-db7f-4fce-b5c6-f49b033d228a div.sk-item {z-index: 1;}#sk-1d4806e0-db7f-4fce-b5c6-f49b033d228a div.sk-parallel {display: flex;align-items: stretch;justify-content: center;background-color: white;}#sk-1d4806e0-db7f-4fce-b5c6-f49b033d228a div.sk-parallel::before {content: \"\";position: absolute;border-left: 1px solid gray;box-sizing: border-box;top: 2em;bottom: 0;left: 50%;}#sk-1d4806e0-db7f-4fce-b5c6-f49b033d228a div.sk-parallel-item {display: flex;flex-direction: column;position: relative;background-color: white;}#sk-1d4806e0-db7f-4fce-b5c6-f49b033d228a div.sk-parallel-item:first-child::after {align-self: flex-end;width: 50%;}#sk-1d4806e0-db7f-4fce-b5c6-f49b033d228a div.sk-parallel-item:last-child::after {align-self: flex-start;width: 50%;}#sk-1d4806e0-db7f-4fce-b5c6-f49b033d228a div.sk-parallel-item:only-child::after {width: 0;}#sk-1d4806e0-db7f-4fce-b5c6-f49b033d228a div.sk-dashed-wrapped {border: 1px dashed gray;margin: 0 0.4em 0.5em 0.4em;box-sizing: border-box;padding-bottom: 0.4em;background-color: white;position: relative;}#sk-1d4806e0-db7f-4fce-b5c6-f49b033d228a div.sk-label label {font-family: monospace;font-weight: bold;background-color: white;display: inline-block;line-height: 1.2em;}#sk-1d4806e0-db7f-4fce-b5c6-f49b033d228a div.sk-label-container {position: relative;z-index: 2;text-align: center;}#sk-1d4806e0-db7f-4fce-b5c6-f49b033d228a div.sk-container {/* jupyter's `normalize.less` sets `[hidden] { display: none; }` but bootstrap.min.css set `[hidden] { display: none !important; }` so we also need the `!important` here to be able to override the default hidden behavior on the sphinx rendered scikit-learn.org. See: https://github.com/scikit-learn/scikit-learn/issues/21755 */display: inline-block !important;position: relative;}#sk-1d4806e0-db7f-4fce-b5c6-f49b033d228a div.sk-text-repr-fallback {display: none;}</style><div id=\"sk-1d4806e0-db7f-4fce-b5c6-f49b033d228a\" class=\"sk-top-container\"><div class=\"sk-text-repr-fallback\"><pre>ColumnTransformer(transformers=[(&#x27;pipeline-1&#x27;,\n",
              "                                 Pipeline(steps=[(&#x27;simpleimputer&#x27;,\n",
              "                                                  SimpleImputer()),\n",
              "                                                 (&#x27;standardscaler&#x27;,\n",
              "                                                  StandardScaler())]),\n",
              "                                 &lt;sklearn.compose._column_transformer.make_column_selector object at 0x7f87c8365f50&gt;),\n",
              "                                (&#x27;pipeline-2&#x27;,\n",
              "                                 Pipeline(steps=[(&#x27;simpleimputer&#x27;,\n",
              "                                                  SimpleImputer(strategy=&#x27;most_frequent&#x27;)),\n",
              "                                                 (&#x27;onehotencoder&#x27;,\n",
              "                                                  OneHotEncoder(handle_unknown=&#x27;ignore&#x27;,\n",
              "                                                                sparse=False))]),\n",
              "                                 &lt;sklearn.compose._column_transformer.make_column_selector object at 0x7f87c8365e90&gt;)])</pre><b>Please rerun this cell to show the HTML repr or trust the notebook.</b></div><div class=\"sk-container\" hidden><div class=\"sk-item sk-dashed-wrapped\"><div class=\"sk-label-container\"><div class=\"sk-label sk-toggleable\"><input class=\"sk-toggleable__control sk-hidden--visually\" id=\"705b7698-919d-4858-bc34-fd3efd72a103\" type=\"checkbox\" ><label for=\"705b7698-919d-4858-bc34-fd3efd72a103\" class=\"sk-toggleable__label sk-toggleable__label-arrow\">ColumnTransformer</label><div class=\"sk-toggleable__content\"><pre>ColumnTransformer(transformers=[(&#x27;pipeline-1&#x27;,\n",
              "                                 Pipeline(steps=[(&#x27;simpleimputer&#x27;,\n",
              "                                                  SimpleImputer()),\n",
              "                                                 (&#x27;standardscaler&#x27;,\n",
              "                                                  StandardScaler())]),\n",
              "                                 &lt;sklearn.compose._column_transformer.make_column_selector object at 0x7f87c8365f50&gt;),\n",
              "                                (&#x27;pipeline-2&#x27;,\n",
              "                                 Pipeline(steps=[(&#x27;simpleimputer&#x27;,\n",
              "                                                  SimpleImputer(strategy=&#x27;most_frequent&#x27;)),\n",
              "                                                 (&#x27;onehotencoder&#x27;,\n",
              "                                                  OneHotEncoder(handle_unknown=&#x27;ignore&#x27;,\n",
              "                                                                sparse=False))]),\n",
              "                                 &lt;sklearn.compose._column_transformer.make_column_selector object at 0x7f87c8365e90&gt;)])</pre></div></div></div><div class=\"sk-parallel\"><div class=\"sk-parallel-item\"><div class=\"sk-item\"><div class=\"sk-label-container\"><div class=\"sk-label sk-toggleable\"><input class=\"sk-toggleable__control sk-hidden--visually\" id=\"3f2c0382-ac34-4d35-84b9-375052ad3066\" type=\"checkbox\" ><label for=\"3f2c0382-ac34-4d35-84b9-375052ad3066\" class=\"sk-toggleable__label sk-toggleable__label-arrow\">pipeline-1</label><div class=\"sk-toggleable__content\"><pre>&lt;sklearn.compose._column_transformer.make_column_selector object at 0x7f87c8365f50&gt;</pre></div></div></div><div class=\"sk-serial\"><div class=\"sk-item\"><div class=\"sk-serial\"><div class=\"sk-item\"><div class=\"sk-estimator sk-toggleable\"><input class=\"sk-toggleable__control sk-hidden--visually\" id=\"91ea6c6c-b673-4dcb-b7c7-822f7f146bb8\" type=\"checkbox\" ><label for=\"91ea6c6c-b673-4dcb-b7c7-822f7f146bb8\" class=\"sk-toggleable__label sk-toggleable__label-arrow\">SimpleImputer</label><div class=\"sk-toggleable__content\"><pre>SimpleImputer()</pre></div></div></div><div class=\"sk-item\"><div class=\"sk-estimator sk-toggleable\"><input class=\"sk-toggleable__control sk-hidden--visually\" id=\"fcaa9a94-31e3-4c77-87b1-46523eb7f32a\" type=\"checkbox\" ><label for=\"fcaa9a94-31e3-4c77-87b1-46523eb7f32a\" class=\"sk-toggleable__label sk-toggleable__label-arrow\">StandardScaler</label><div class=\"sk-toggleable__content\"><pre>StandardScaler()</pre></div></div></div></div></div></div></div></div><div class=\"sk-parallel-item\"><div class=\"sk-item\"><div class=\"sk-label-container\"><div class=\"sk-label sk-toggleable\"><input class=\"sk-toggleable__control sk-hidden--visually\" id=\"fdb289c0-b3e7-44e7-824a-e8c1a8c6f11b\" type=\"checkbox\" ><label for=\"fdb289c0-b3e7-44e7-824a-e8c1a8c6f11b\" class=\"sk-toggleable__label sk-toggleable__label-arrow\">pipeline-2</label><div class=\"sk-toggleable__content\"><pre>&lt;sklearn.compose._column_transformer.make_column_selector object at 0x7f87c8365e90&gt;</pre></div></div></div><div class=\"sk-serial\"><div class=\"sk-item\"><div class=\"sk-serial\"><div class=\"sk-item\"><div class=\"sk-estimator sk-toggleable\"><input class=\"sk-toggleable__control sk-hidden--visually\" id=\"56581c23-6ad5-448c-847a-641ea96aa52e\" type=\"checkbox\" ><label for=\"56581c23-6ad5-448c-847a-641ea96aa52e\" class=\"sk-toggleable__label sk-toggleable__label-arrow\">SimpleImputer</label><div class=\"sk-toggleable__content\"><pre>SimpleImputer(strategy=&#x27;most_frequent&#x27;)</pre></div></div></div><div class=\"sk-item\"><div class=\"sk-estimator sk-toggleable\"><input class=\"sk-toggleable__control sk-hidden--visually\" id=\"3d582089-1fbf-47d2-946a-679b270bb2ec\" type=\"checkbox\" ><label for=\"3d582089-1fbf-47d2-946a-679b270bb2ec\" class=\"sk-toggleable__label sk-toggleable__label-arrow\">OneHotEncoder</label><div class=\"sk-toggleable__content\"><pre>OneHotEncoder(handle_unknown=&#x27;ignore&#x27;, sparse=False)</pre></div></div></div></div></div></div></div></div></div></div></div></div>"
            ],
            "text/plain": [
              "ColumnTransformer(transformers=[('pipeline-1',\n",
              "                                 Pipeline(steps=[('simpleimputer',\n",
              "                                                  SimpleImputer()),\n",
              "                                                 ('standardscaler',\n",
              "                                                  StandardScaler())]),\n",
              "                                 <sklearn.compose._column_transformer.make_column_selector object at 0x7f87c8365f50>),\n",
              "                                ('pipeline-2',\n",
              "                                 Pipeline(steps=[('simpleimputer',\n",
              "                                                  SimpleImputer(strategy='most_frequent')),\n",
              "                                                 ('onehotencoder',\n",
              "                                                  OneHotEncoder(handle_unknown='ignore',\n",
              "                                                                sparse=False))]),\n",
              "                                 <sklearn.compose._column_transformer.make_column_selector object at 0x7f87c8365e90>)])"
            ]
          },
          "metadata": {},
          "execution_count": 29
        }
      ]
    },
    {
      "cell_type": "code",
      "source": [
        "# perform calculations on our training data\n",
        "preprocessor.fit(X_train)"
      ],
      "metadata": {
        "colab": {
          "base_uri": "https://localhost:8080/",
          "height": 153
        },
        "id": "4nOeyVXJcz4r",
        "outputId": "f7cef398-9d61-46f3-df51-84a7022d7db0"
      },
      "execution_count": 30,
      "outputs": [
        {
          "output_type": "execute_result",
          "data": {
            "text/html": [
              "<style>#sk-e9d2d97f-c9d6-4fd7-af98-66b051760f6c {color: black;background-color: white;}#sk-e9d2d97f-c9d6-4fd7-af98-66b051760f6c pre{padding: 0;}#sk-e9d2d97f-c9d6-4fd7-af98-66b051760f6c div.sk-toggleable {background-color: white;}#sk-e9d2d97f-c9d6-4fd7-af98-66b051760f6c label.sk-toggleable__label {cursor: pointer;display: block;width: 100%;margin-bottom: 0;padding: 0.3em;box-sizing: border-box;text-align: center;}#sk-e9d2d97f-c9d6-4fd7-af98-66b051760f6c label.sk-toggleable__label-arrow:before {content: \"▸\";float: left;margin-right: 0.25em;color: #696969;}#sk-e9d2d97f-c9d6-4fd7-af98-66b051760f6c label.sk-toggleable__label-arrow:hover:before {color: black;}#sk-e9d2d97f-c9d6-4fd7-af98-66b051760f6c div.sk-estimator:hover label.sk-toggleable__label-arrow:before {color: black;}#sk-e9d2d97f-c9d6-4fd7-af98-66b051760f6c div.sk-toggleable__content {max-height: 0;max-width: 0;overflow: hidden;text-align: left;background-color: #f0f8ff;}#sk-e9d2d97f-c9d6-4fd7-af98-66b051760f6c div.sk-toggleable__content pre {margin: 0.2em;color: black;border-radius: 0.25em;background-color: #f0f8ff;}#sk-e9d2d97f-c9d6-4fd7-af98-66b051760f6c input.sk-toggleable__control:checked~div.sk-toggleable__content {max-height: 200px;max-width: 100%;overflow: auto;}#sk-e9d2d97f-c9d6-4fd7-af98-66b051760f6c input.sk-toggleable__control:checked~label.sk-toggleable__label-arrow:before {content: \"▾\";}#sk-e9d2d97f-c9d6-4fd7-af98-66b051760f6c div.sk-estimator input.sk-toggleable__control:checked~label.sk-toggleable__label {background-color: #d4ebff;}#sk-e9d2d97f-c9d6-4fd7-af98-66b051760f6c div.sk-label input.sk-toggleable__control:checked~label.sk-toggleable__label {background-color: #d4ebff;}#sk-e9d2d97f-c9d6-4fd7-af98-66b051760f6c input.sk-hidden--visually {border: 0;clip: rect(1px 1px 1px 1px);clip: rect(1px, 1px, 1px, 1px);height: 1px;margin: -1px;overflow: hidden;padding: 0;position: absolute;width: 1px;}#sk-e9d2d97f-c9d6-4fd7-af98-66b051760f6c div.sk-estimator {font-family: monospace;background-color: #f0f8ff;border: 1px dotted black;border-radius: 0.25em;box-sizing: border-box;margin-bottom: 0.5em;}#sk-e9d2d97f-c9d6-4fd7-af98-66b051760f6c div.sk-estimator:hover {background-color: #d4ebff;}#sk-e9d2d97f-c9d6-4fd7-af98-66b051760f6c div.sk-parallel-item::after {content: \"\";width: 100%;border-bottom: 1px solid gray;flex-grow: 1;}#sk-e9d2d97f-c9d6-4fd7-af98-66b051760f6c div.sk-label:hover label.sk-toggleable__label {background-color: #d4ebff;}#sk-e9d2d97f-c9d6-4fd7-af98-66b051760f6c div.sk-serial::before {content: \"\";position: absolute;border-left: 1px solid gray;box-sizing: border-box;top: 2em;bottom: 0;left: 50%;}#sk-e9d2d97f-c9d6-4fd7-af98-66b051760f6c div.sk-serial {display: flex;flex-direction: column;align-items: center;background-color: white;padding-right: 0.2em;padding-left: 0.2em;}#sk-e9d2d97f-c9d6-4fd7-af98-66b051760f6c div.sk-item {z-index: 1;}#sk-e9d2d97f-c9d6-4fd7-af98-66b051760f6c div.sk-parallel {display: flex;align-items: stretch;justify-content: center;background-color: white;}#sk-e9d2d97f-c9d6-4fd7-af98-66b051760f6c div.sk-parallel::before {content: \"\";position: absolute;border-left: 1px solid gray;box-sizing: border-box;top: 2em;bottom: 0;left: 50%;}#sk-e9d2d97f-c9d6-4fd7-af98-66b051760f6c div.sk-parallel-item {display: flex;flex-direction: column;position: relative;background-color: white;}#sk-e9d2d97f-c9d6-4fd7-af98-66b051760f6c div.sk-parallel-item:first-child::after {align-self: flex-end;width: 50%;}#sk-e9d2d97f-c9d6-4fd7-af98-66b051760f6c div.sk-parallel-item:last-child::after {align-self: flex-start;width: 50%;}#sk-e9d2d97f-c9d6-4fd7-af98-66b051760f6c div.sk-parallel-item:only-child::after {width: 0;}#sk-e9d2d97f-c9d6-4fd7-af98-66b051760f6c div.sk-dashed-wrapped {border: 1px dashed gray;margin: 0 0.4em 0.5em 0.4em;box-sizing: border-box;padding-bottom: 0.4em;background-color: white;position: relative;}#sk-e9d2d97f-c9d6-4fd7-af98-66b051760f6c div.sk-label label {font-family: monospace;font-weight: bold;background-color: white;display: inline-block;line-height: 1.2em;}#sk-e9d2d97f-c9d6-4fd7-af98-66b051760f6c div.sk-label-container {position: relative;z-index: 2;text-align: center;}#sk-e9d2d97f-c9d6-4fd7-af98-66b051760f6c div.sk-container {/* jupyter's `normalize.less` sets `[hidden] { display: none; }` but bootstrap.min.css set `[hidden] { display: none !important; }` so we also need the `!important` here to be able to override the default hidden behavior on the sphinx rendered scikit-learn.org. See: https://github.com/scikit-learn/scikit-learn/issues/21755 */display: inline-block !important;position: relative;}#sk-e9d2d97f-c9d6-4fd7-af98-66b051760f6c div.sk-text-repr-fallback {display: none;}</style><div id=\"sk-e9d2d97f-c9d6-4fd7-af98-66b051760f6c\" class=\"sk-top-container\"><div class=\"sk-text-repr-fallback\"><pre>ColumnTransformer(transformers=[(&#x27;pipeline-1&#x27;,\n",
              "                                 Pipeline(steps=[(&#x27;simpleimputer&#x27;,\n",
              "                                                  SimpleImputer()),\n",
              "                                                 (&#x27;standardscaler&#x27;,\n",
              "                                                  StandardScaler())]),\n",
              "                                 &lt;sklearn.compose._column_transformer.make_column_selector object at 0x7f87c8365f50&gt;),\n",
              "                                (&#x27;pipeline-2&#x27;,\n",
              "                                 Pipeline(steps=[(&#x27;simpleimputer&#x27;,\n",
              "                                                  SimpleImputer(strategy=&#x27;most_frequent&#x27;)),\n",
              "                                                 (&#x27;onehotencoder&#x27;,\n",
              "                                                  OneHotEncoder(handle_unknown=&#x27;ignore&#x27;,\n",
              "                                                                sparse=False))]),\n",
              "                                 &lt;sklearn.compose._column_transformer.make_column_selector object at 0x7f87c8365e90&gt;)])</pre><b>Please rerun this cell to show the HTML repr or trust the notebook.</b></div><div class=\"sk-container\" hidden><div class=\"sk-item sk-dashed-wrapped\"><div class=\"sk-label-container\"><div class=\"sk-label sk-toggleable\"><input class=\"sk-toggleable__control sk-hidden--visually\" id=\"97e07963-3674-4f79-b571-b0377713ff27\" type=\"checkbox\" ><label for=\"97e07963-3674-4f79-b571-b0377713ff27\" class=\"sk-toggleable__label sk-toggleable__label-arrow\">ColumnTransformer</label><div class=\"sk-toggleable__content\"><pre>ColumnTransformer(transformers=[(&#x27;pipeline-1&#x27;,\n",
              "                                 Pipeline(steps=[(&#x27;simpleimputer&#x27;,\n",
              "                                                  SimpleImputer()),\n",
              "                                                 (&#x27;standardscaler&#x27;,\n",
              "                                                  StandardScaler())]),\n",
              "                                 &lt;sklearn.compose._column_transformer.make_column_selector object at 0x7f87c8365f50&gt;),\n",
              "                                (&#x27;pipeline-2&#x27;,\n",
              "                                 Pipeline(steps=[(&#x27;simpleimputer&#x27;,\n",
              "                                                  SimpleImputer(strategy=&#x27;most_frequent&#x27;)),\n",
              "                                                 (&#x27;onehotencoder&#x27;,\n",
              "                                                  OneHotEncoder(handle_unknown=&#x27;ignore&#x27;,\n",
              "                                                                sparse=False))]),\n",
              "                                 &lt;sklearn.compose._column_transformer.make_column_selector object at 0x7f87c8365e90&gt;)])</pre></div></div></div><div class=\"sk-parallel\"><div class=\"sk-parallel-item\"><div class=\"sk-item\"><div class=\"sk-label-container\"><div class=\"sk-label sk-toggleable\"><input class=\"sk-toggleable__control sk-hidden--visually\" id=\"186ee086-884d-4721-8085-897905e16fbb\" type=\"checkbox\" ><label for=\"186ee086-884d-4721-8085-897905e16fbb\" class=\"sk-toggleable__label sk-toggleable__label-arrow\">pipeline-1</label><div class=\"sk-toggleable__content\"><pre>&lt;sklearn.compose._column_transformer.make_column_selector object at 0x7f87c8365f50&gt;</pre></div></div></div><div class=\"sk-serial\"><div class=\"sk-item\"><div class=\"sk-serial\"><div class=\"sk-item\"><div class=\"sk-estimator sk-toggleable\"><input class=\"sk-toggleable__control sk-hidden--visually\" id=\"a2046d8c-6937-4be3-ae29-daaca573a97a\" type=\"checkbox\" ><label for=\"a2046d8c-6937-4be3-ae29-daaca573a97a\" class=\"sk-toggleable__label sk-toggleable__label-arrow\">SimpleImputer</label><div class=\"sk-toggleable__content\"><pre>SimpleImputer()</pre></div></div></div><div class=\"sk-item\"><div class=\"sk-estimator sk-toggleable\"><input class=\"sk-toggleable__control sk-hidden--visually\" id=\"064aa1dc-15db-46e6-bf50-a5187e93c9ba\" type=\"checkbox\" ><label for=\"064aa1dc-15db-46e6-bf50-a5187e93c9ba\" class=\"sk-toggleable__label sk-toggleable__label-arrow\">StandardScaler</label><div class=\"sk-toggleable__content\"><pre>StandardScaler()</pre></div></div></div></div></div></div></div></div><div class=\"sk-parallel-item\"><div class=\"sk-item\"><div class=\"sk-label-container\"><div class=\"sk-label sk-toggleable\"><input class=\"sk-toggleable__control sk-hidden--visually\" id=\"43a95a6d-2ffe-4d59-87ed-65167d0a7c7a\" type=\"checkbox\" ><label for=\"43a95a6d-2ffe-4d59-87ed-65167d0a7c7a\" class=\"sk-toggleable__label sk-toggleable__label-arrow\">pipeline-2</label><div class=\"sk-toggleable__content\"><pre>&lt;sklearn.compose._column_transformer.make_column_selector object at 0x7f87c8365e90&gt;</pre></div></div></div><div class=\"sk-serial\"><div class=\"sk-item\"><div class=\"sk-serial\"><div class=\"sk-item\"><div class=\"sk-estimator sk-toggleable\"><input class=\"sk-toggleable__control sk-hidden--visually\" id=\"7c0df20f-bafb-46a1-bbfc-fc4e67eba03f\" type=\"checkbox\" ><label for=\"7c0df20f-bafb-46a1-bbfc-fc4e67eba03f\" class=\"sk-toggleable__label sk-toggleable__label-arrow\">SimpleImputer</label><div class=\"sk-toggleable__content\"><pre>SimpleImputer(strategy=&#x27;most_frequent&#x27;)</pre></div></div></div><div class=\"sk-item\"><div class=\"sk-estimator sk-toggleable\"><input class=\"sk-toggleable__control sk-hidden--visually\" id=\"ac28f65e-9204-4898-8ba6-71a4db040d27\" type=\"checkbox\" ><label for=\"ac28f65e-9204-4898-8ba6-71a4db040d27\" class=\"sk-toggleable__label sk-toggleable__label-arrow\">OneHotEncoder</label><div class=\"sk-toggleable__content\"><pre>OneHotEncoder(handle_unknown=&#x27;ignore&#x27;, sparse=False)</pre></div></div></div></div></div></div></div></div></div></div></div></div>"
            ],
            "text/plain": [
              "ColumnTransformer(transformers=[('pipeline-1',\n",
              "                                 Pipeline(steps=[('simpleimputer',\n",
              "                                                  SimpleImputer()),\n",
              "                                                 ('standardscaler',\n",
              "                                                  StandardScaler())]),\n",
              "                                 <sklearn.compose._column_transformer.make_column_selector object at 0x7f87c8365f50>),\n",
              "                                ('pipeline-2',\n",
              "                                 Pipeline(steps=[('simpleimputer',\n",
              "                                                  SimpleImputer(strategy='most_frequent')),\n",
              "                                                 ('onehotencoder',\n",
              "                                                  OneHotEncoder(handle_unknown='ignore',\n",
              "                                                                sparse=False))]),\n",
              "                                 <sklearn.compose._column_transformer.make_column_selector object at 0x7f87c8365e90>)])"
            ]
          },
          "metadata": {},
          "execution_count": 30
        }
      ]
    },
    {
      "cell_type": "code",
      "source": [
        "# transform our training data and testing data\n",
        "X_train_processed = preprocessor.transform(X_train)\n",
        "X_test_processed = preprocessor.transform(X_test)"
      ],
      "metadata": {
        "id": "1exaqn7udFjY"
      },
      "execution_count": 31,
      "outputs": []
    },
    {
      "cell_type": "code",
      "source": [
        "# displaying our preprocessed data\n",
        "\n",
        "print(np.isnan(X_train_processed.sum().sum()), \"missing values in training data\")\n",
        "print(np.isnan(X_test_processed.sum().sum()), \"missing values in testing data\")\n",
        "print(\"\\n\")\n",
        "print(\"All data is X_train_processed are\", X_train_processed.dtype)\n",
        "print(\"All data is X_test_processed are\", X_test_processed.dtype)\n",
        "print(\"\\n\")\n",
        "print(\"shape of the data is\", X_train_processed)\n",
        "print(\"\\n\")"
      ],
      "metadata": {
        "colab": {
          "base_uri": "https://localhost:8080/"
        },
        "id": "C3uvMTzkdPCf",
        "outputId": "24da62e6-e505-4223-f8df-18e5d50bb99b"
      },
      "execution_count": 32,
      "outputs": [
        {
          "output_type": "stream",
          "name": "stdout",
          "text": [
            "False missing values in training data\n",
            "False missing values in testing data\n",
            "\n",
            "\n",
            "All data is X_train_processed are float64\n",
            "All data is X_test_processed are float64\n",
            "\n",
            "\n",
            "shape of the data is [[ 0.81724868 -0.71277507  1.82810922 ...  0.          1.\n",
            "   0.        ]\n",
            " [ 0.5563395  -1.29105225  0.60336888 ...  0.          1.\n",
            "   0.        ]\n",
            " [-0.13151196  1.81331864  0.24454056 ...  1.          0.\n",
            "   0.        ]\n",
            " ...\n",
            " [ 1.11373638 -0.92052713  1.52302674 ...  1.          0.\n",
            "   0.        ]\n",
            " [ 1.76600931 -0.2277552  -0.38377708 ...  1.          0.\n",
            "   0.        ]\n",
            " [ 0.81724868 -0.95867683 -0.73836105 ...  1.          0.\n",
            "   0.        ]]\n",
            "\n",
            "\n"
          ]
        }
      ]
    },
    {
      "cell_type": "markdown",
      "source": [
        "# Linear Regression Model"
      ],
      "metadata": {
        "id": "IaG8T7qZRCe4"
      }
    },
    {
      "cell_type": "code",
      "source": [
        "# converting our processed data back into data frames\n",
        "X_train_processed = pd.DataFrame(X_train_processed)\n",
        "X_test_processed = pd.DataFrame(X_test_processed)"
      ],
      "metadata": {
        "id": "rieCPTUiIIHE"
      },
      "execution_count": 33,
      "outputs": []
    },
    {
      "cell_type": "code",
      "source": [
        "# instantiating our model and fitting it with our training data\n",
        "reg = LinearRegression()\n",
        "\n",
        "reg.fit(X_train_processed, y_train)"
      ],
      "metadata": {
        "colab": {
          "base_uri": "https://localhost:8080/",
          "height": 74
        },
        "id": "UMbMmQM3IhRA",
        "outputId": "2dce9591-9ee7-41ae-feef-aba9f4487779"
      },
      "execution_count": 34,
      "outputs": [
        {
          "output_type": "execute_result",
          "data": {
            "text/html": [
              "<style>#sk-1d108a4a-52bf-4d86-8271-389fc12a0df1 {color: black;background-color: white;}#sk-1d108a4a-52bf-4d86-8271-389fc12a0df1 pre{padding: 0;}#sk-1d108a4a-52bf-4d86-8271-389fc12a0df1 div.sk-toggleable {background-color: white;}#sk-1d108a4a-52bf-4d86-8271-389fc12a0df1 label.sk-toggleable__label {cursor: pointer;display: block;width: 100%;margin-bottom: 0;padding: 0.3em;box-sizing: border-box;text-align: center;}#sk-1d108a4a-52bf-4d86-8271-389fc12a0df1 label.sk-toggleable__label-arrow:before {content: \"▸\";float: left;margin-right: 0.25em;color: #696969;}#sk-1d108a4a-52bf-4d86-8271-389fc12a0df1 label.sk-toggleable__label-arrow:hover:before {color: black;}#sk-1d108a4a-52bf-4d86-8271-389fc12a0df1 div.sk-estimator:hover label.sk-toggleable__label-arrow:before {color: black;}#sk-1d108a4a-52bf-4d86-8271-389fc12a0df1 div.sk-toggleable__content {max-height: 0;max-width: 0;overflow: hidden;text-align: left;background-color: #f0f8ff;}#sk-1d108a4a-52bf-4d86-8271-389fc12a0df1 div.sk-toggleable__content pre {margin: 0.2em;color: black;border-radius: 0.25em;background-color: #f0f8ff;}#sk-1d108a4a-52bf-4d86-8271-389fc12a0df1 input.sk-toggleable__control:checked~div.sk-toggleable__content {max-height: 200px;max-width: 100%;overflow: auto;}#sk-1d108a4a-52bf-4d86-8271-389fc12a0df1 input.sk-toggleable__control:checked~label.sk-toggleable__label-arrow:before {content: \"▾\";}#sk-1d108a4a-52bf-4d86-8271-389fc12a0df1 div.sk-estimator input.sk-toggleable__control:checked~label.sk-toggleable__label {background-color: #d4ebff;}#sk-1d108a4a-52bf-4d86-8271-389fc12a0df1 div.sk-label input.sk-toggleable__control:checked~label.sk-toggleable__label {background-color: #d4ebff;}#sk-1d108a4a-52bf-4d86-8271-389fc12a0df1 input.sk-hidden--visually {border: 0;clip: rect(1px 1px 1px 1px);clip: rect(1px, 1px, 1px, 1px);height: 1px;margin: -1px;overflow: hidden;padding: 0;position: absolute;width: 1px;}#sk-1d108a4a-52bf-4d86-8271-389fc12a0df1 div.sk-estimator {font-family: monospace;background-color: #f0f8ff;border: 1px dotted black;border-radius: 0.25em;box-sizing: border-box;margin-bottom: 0.5em;}#sk-1d108a4a-52bf-4d86-8271-389fc12a0df1 div.sk-estimator:hover {background-color: #d4ebff;}#sk-1d108a4a-52bf-4d86-8271-389fc12a0df1 div.sk-parallel-item::after {content: \"\";width: 100%;border-bottom: 1px solid gray;flex-grow: 1;}#sk-1d108a4a-52bf-4d86-8271-389fc12a0df1 div.sk-label:hover label.sk-toggleable__label {background-color: #d4ebff;}#sk-1d108a4a-52bf-4d86-8271-389fc12a0df1 div.sk-serial::before {content: \"\";position: absolute;border-left: 1px solid gray;box-sizing: border-box;top: 2em;bottom: 0;left: 50%;}#sk-1d108a4a-52bf-4d86-8271-389fc12a0df1 div.sk-serial {display: flex;flex-direction: column;align-items: center;background-color: white;padding-right: 0.2em;padding-left: 0.2em;}#sk-1d108a4a-52bf-4d86-8271-389fc12a0df1 div.sk-item {z-index: 1;}#sk-1d108a4a-52bf-4d86-8271-389fc12a0df1 div.sk-parallel {display: flex;align-items: stretch;justify-content: center;background-color: white;}#sk-1d108a4a-52bf-4d86-8271-389fc12a0df1 div.sk-parallel::before {content: \"\";position: absolute;border-left: 1px solid gray;box-sizing: border-box;top: 2em;bottom: 0;left: 50%;}#sk-1d108a4a-52bf-4d86-8271-389fc12a0df1 div.sk-parallel-item {display: flex;flex-direction: column;position: relative;background-color: white;}#sk-1d108a4a-52bf-4d86-8271-389fc12a0df1 div.sk-parallel-item:first-child::after {align-self: flex-end;width: 50%;}#sk-1d108a4a-52bf-4d86-8271-389fc12a0df1 div.sk-parallel-item:last-child::after {align-self: flex-start;width: 50%;}#sk-1d108a4a-52bf-4d86-8271-389fc12a0df1 div.sk-parallel-item:only-child::after {width: 0;}#sk-1d108a4a-52bf-4d86-8271-389fc12a0df1 div.sk-dashed-wrapped {border: 1px dashed gray;margin: 0 0.4em 0.5em 0.4em;box-sizing: border-box;padding-bottom: 0.4em;background-color: white;position: relative;}#sk-1d108a4a-52bf-4d86-8271-389fc12a0df1 div.sk-label label {font-family: monospace;font-weight: bold;background-color: white;display: inline-block;line-height: 1.2em;}#sk-1d108a4a-52bf-4d86-8271-389fc12a0df1 div.sk-label-container {position: relative;z-index: 2;text-align: center;}#sk-1d108a4a-52bf-4d86-8271-389fc12a0df1 div.sk-container {/* jupyter's `normalize.less` sets `[hidden] { display: none; }` but bootstrap.min.css set `[hidden] { display: none !important; }` so we also need the `!important` here to be able to override the default hidden behavior on the sphinx rendered scikit-learn.org. See: https://github.com/scikit-learn/scikit-learn/issues/21755 */display: inline-block !important;position: relative;}#sk-1d108a4a-52bf-4d86-8271-389fc12a0df1 div.sk-text-repr-fallback {display: none;}</style><div id=\"sk-1d108a4a-52bf-4d86-8271-389fc12a0df1\" class=\"sk-top-container\"><div class=\"sk-text-repr-fallback\"><pre>LinearRegression()</pre><b>Please rerun this cell to show the HTML repr or trust the notebook.</b></div><div class=\"sk-container\" hidden><div class=\"sk-item\"><div class=\"sk-estimator sk-toggleable\"><input class=\"sk-toggleable__control sk-hidden--visually\" id=\"10d7fc2b-3cf9-4681-9d5a-2596d30fc8dd\" type=\"checkbox\" checked><label for=\"10d7fc2b-3cf9-4681-9d5a-2596d30fc8dd\" class=\"sk-toggleable__label sk-toggleable__label-arrow\">LinearRegression</label><div class=\"sk-toggleable__content\"><pre>LinearRegression()</pre></div></div></div></div></div>"
            ],
            "text/plain": [
              "LinearRegression()"
            ]
          },
          "metadata": {},
          "execution_count": 34
        }
      ]
    },
    {
      "cell_type": "code",
      "source": [
        "# saving our predictions\n",
        "train_preds = reg.predict(X_train_processed)\n",
        "test_preds = reg.predict(X_test_processed)"
      ],
      "metadata": {
        "id": "evtOy9d6IoEg"
      },
      "execution_count": 35,
      "outputs": []
    },
    {
      "cell_type": "code",
      "source": [
        "# getting our r2 scores on our testing and training data\n",
        "r2_train = r2_score(y_train, train_preds)\n",
        "r2_test = r2_score(y_test, test_preds)\n",
        "\n",
        "print(f\"Training score: {r2_train}\")\n",
        "print(f\"Testing score: {r2_test}\")"
      ],
      "metadata": {
        "colab": {
          "base_uri": "https://localhost:8080/"
        },
        "id": "ArgAwS03Istw",
        "outputId": "6aa84403-66a5-480a-d922-e68af9c3ff8b"
      },
      "execution_count": 36,
      "outputs": [
        {
          "output_type": "stream",
          "name": "stdout",
          "text": [
            "Training score: 0.5613077090954539\n",
            "Testing score: 0.5669211632282424\n"
          ]
        }
      ]
    },
    {
      "cell_type": "code",
      "source": [
        "# getting our RSME scores for our training and testing data\n",
        "rsme_train = np.sqrt(mean_squared_error(y_train, train_preds))\n",
        "rsme_test = np.sqrt(mean_squared_error(y_test, test_preds))\n",
        "\n",
        "print(f\"Training score: {rsme_train}\")\n",
        "print(f\"Testing score: {rsme_test}\")"
      ],
      "metadata": {
        "colab": {
          "base_uri": "https://localhost:8080/"
        },
        "id": "d4f9cHLhJK8T",
        "outputId": "d7c5ca7c-37f4-40fe-8776-2df3e85b7738"
      },
      "execution_count": 37,
      "outputs": [
        {
          "output_type": "stream",
          "name": "stdout",
          "text": [
            "Training score: 1139.4254705110307\n",
            "Testing score: 1093.0940830884617\n"
          ]
        }
      ]
    },
    {
      "cell_type": "markdown",
      "source": [
        "# Decision Tree Regressor Model"
      ],
      "metadata": {
        "id": "gWAG-i97RJrk"
      }
    },
    {
      "cell_type": "code",
      "source": [
        "# instantiating our tree model\n",
        "dec_tree = DecisionTreeRegressor(random_state=42)"
      ],
      "metadata": {
        "id": "JxRATDzLJfXP"
      },
      "execution_count": 38,
      "outputs": []
    },
    {
      "cell_type": "code",
      "source": [
        "# fitting our tree model\n",
        "dec_tree.fit(X_train_processed, y_train)"
      ],
      "metadata": {
        "colab": {
          "base_uri": "https://localhost:8080/",
          "height": 74
        },
        "id": "r_iefKAaJ4jx",
        "outputId": "19be17c3-2bfa-4f0c-e10f-ebecced5125b"
      },
      "execution_count": 39,
      "outputs": [
        {
          "output_type": "execute_result",
          "data": {
            "text/html": [
              "<style>#sk-90fae7b9-9cb3-4ffe-a5f4-47534507a833 {color: black;background-color: white;}#sk-90fae7b9-9cb3-4ffe-a5f4-47534507a833 pre{padding: 0;}#sk-90fae7b9-9cb3-4ffe-a5f4-47534507a833 div.sk-toggleable {background-color: white;}#sk-90fae7b9-9cb3-4ffe-a5f4-47534507a833 label.sk-toggleable__label {cursor: pointer;display: block;width: 100%;margin-bottom: 0;padding: 0.3em;box-sizing: border-box;text-align: center;}#sk-90fae7b9-9cb3-4ffe-a5f4-47534507a833 label.sk-toggleable__label-arrow:before {content: \"▸\";float: left;margin-right: 0.25em;color: #696969;}#sk-90fae7b9-9cb3-4ffe-a5f4-47534507a833 label.sk-toggleable__label-arrow:hover:before {color: black;}#sk-90fae7b9-9cb3-4ffe-a5f4-47534507a833 div.sk-estimator:hover label.sk-toggleable__label-arrow:before {color: black;}#sk-90fae7b9-9cb3-4ffe-a5f4-47534507a833 div.sk-toggleable__content {max-height: 0;max-width: 0;overflow: hidden;text-align: left;background-color: #f0f8ff;}#sk-90fae7b9-9cb3-4ffe-a5f4-47534507a833 div.sk-toggleable__content pre {margin: 0.2em;color: black;border-radius: 0.25em;background-color: #f0f8ff;}#sk-90fae7b9-9cb3-4ffe-a5f4-47534507a833 input.sk-toggleable__control:checked~div.sk-toggleable__content {max-height: 200px;max-width: 100%;overflow: auto;}#sk-90fae7b9-9cb3-4ffe-a5f4-47534507a833 input.sk-toggleable__control:checked~label.sk-toggleable__label-arrow:before {content: \"▾\";}#sk-90fae7b9-9cb3-4ffe-a5f4-47534507a833 div.sk-estimator input.sk-toggleable__control:checked~label.sk-toggleable__label {background-color: #d4ebff;}#sk-90fae7b9-9cb3-4ffe-a5f4-47534507a833 div.sk-label input.sk-toggleable__control:checked~label.sk-toggleable__label {background-color: #d4ebff;}#sk-90fae7b9-9cb3-4ffe-a5f4-47534507a833 input.sk-hidden--visually {border: 0;clip: rect(1px 1px 1px 1px);clip: rect(1px, 1px, 1px, 1px);height: 1px;margin: -1px;overflow: hidden;padding: 0;position: absolute;width: 1px;}#sk-90fae7b9-9cb3-4ffe-a5f4-47534507a833 div.sk-estimator {font-family: monospace;background-color: #f0f8ff;border: 1px dotted black;border-radius: 0.25em;box-sizing: border-box;margin-bottom: 0.5em;}#sk-90fae7b9-9cb3-4ffe-a5f4-47534507a833 div.sk-estimator:hover {background-color: #d4ebff;}#sk-90fae7b9-9cb3-4ffe-a5f4-47534507a833 div.sk-parallel-item::after {content: \"\";width: 100%;border-bottom: 1px solid gray;flex-grow: 1;}#sk-90fae7b9-9cb3-4ffe-a5f4-47534507a833 div.sk-label:hover label.sk-toggleable__label {background-color: #d4ebff;}#sk-90fae7b9-9cb3-4ffe-a5f4-47534507a833 div.sk-serial::before {content: \"\";position: absolute;border-left: 1px solid gray;box-sizing: border-box;top: 2em;bottom: 0;left: 50%;}#sk-90fae7b9-9cb3-4ffe-a5f4-47534507a833 div.sk-serial {display: flex;flex-direction: column;align-items: center;background-color: white;padding-right: 0.2em;padding-left: 0.2em;}#sk-90fae7b9-9cb3-4ffe-a5f4-47534507a833 div.sk-item {z-index: 1;}#sk-90fae7b9-9cb3-4ffe-a5f4-47534507a833 div.sk-parallel {display: flex;align-items: stretch;justify-content: center;background-color: white;}#sk-90fae7b9-9cb3-4ffe-a5f4-47534507a833 div.sk-parallel::before {content: \"\";position: absolute;border-left: 1px solid gray;box-sizing: border-box;top: 2em;bottom: 0;left: 50%;}#sk-90fae7b9-9cb3-4ffe-a5f4-47534507a833 div.sk-parallel-item {display: flex;flex-direction: column;position: relative;background-color: white;}#sk-90fae7b9-9cb3-4ffe-a5f4-47534507a833 div.sk-parallel-item:first-child::after {align-self: flex-end;width: 50%;}#sk-90fae7b9-9cb3-4ffe-a5f4-47534507a833 div.sk-parallel-item:last-child::after {align-self: flex-start;width: 50%;}#sk-90fae7b9-9cb3-4ffe-a5f4-47534507a833 div.sk-parallel-item:only-child::after {width: 0;}#sk-90fae7b9-9cb3-4ffe-a5f4-47534507a833 div.sk-dashed-wrapped {border: 1px dashed gray;margin: 0 0.4em 0.5em 0.4em;box-sizing: border-box;padding-bottom: 0.4em;background-color: white;position: relative;}#sk-90fae7b9-9cb3-4ffe-a5f4-47534507a833 div.sk-label label {font-family: monospace;font-weight: bold;background-color: white;display: inline-block;line-height: 1.2em;}#sk-90fae7b9-9cb3-4ffe-a5f4-47534507a833 div.sk-label-container {position: relative;z-index: 2;text-align: center;}#sk-90fae7b9-9cb3-4ffe-a5f4-47534507a833 div.sk-container {/* jupyter's `normalize.less` sets `[hidden] { display: none; }` but bootstrap.min.css set `[hidden] { display: none !important; }` so we also need the `!important` here to be able to override the default hidden behavior on the sphinx rendered scikit-learn.org. See: https://github.com/scikit-learn/scikit-learn/issues/21755 */display: inline-block !important;position: relative;}#sk-90fae7b9-9cb3-4ffe-a5f4-47534507a833 div.sk-text-repr-fallback {display: none;}</style><div id=\"sk-90fae7b9-9cb3-4ffe-a5f4-47534507a833\" class=\"sk-top-container\"><div class=\"sk-text-repr-fallback\"><pre>DecisionTreeRegressor(random_state=42)</pre><b>Please rerun this cell to show the HTML repr or trust the notebook.</b></div><div class=\"sk-container\" hidden><div class=\"sk-item\"><div class=\"sk-estimator sk-toggleable\"><input class=\"sk-toggleable__control sk-hidden--visually\" id=\"c14ca3e4-03a1-4512-ace5-87c93ce487bd\" type=\"checkbox\" checked><label for=\"c14ca3e4-03a1-4512-ace5-87c93ce487bd\" class=\"sk-toggleable__label sk-toggleable__label-arrow\">DecisionTreeRegressor</label><div class=\"sk-toggleable__content\"><pre>DecisionTreeRegressor(random_state=42)</pre></div></div></div></div></div>"
            ],
            "text/plain": [
              "DecisionTreeRegressor(random_state=42)"
            ]
          },
          "metadata": {},
          "execution_count": 39
        }
      ]
    },
    {
      "cell_type": "code",
      "source": [
        "tree_train_preds = dec_tree.predict(X_train_processed)\n",
        "tree_test_preds = dec_tree.predict(X_test_processed)"
      ],
      "metadata": {
        "id": "ObIz6C0gRtWp"
      },
      "execution_count": 40,
      "outputs": []
    },
    {
      "cell_type": "code",
      "source": [
        "# obtaining our tree test and training scores r2 value\n",
        "r2_tree_train_score = r2_score(y_train, tree_train_preds)\n",
        "r2_tree_test_score = r2_score(y_test, tree_test_preds)\n",
        "\n",
        "print(f\"Training tree score: {r2_tree_train_score}\")\n",
        "print(f\"Testing tree score: {r2_tree_test_score}\")"
      ],
      "metadata": {
        "colab": {
          "base_uri": "https://localhost:8080/"
        },
        "id": "BFvZb_y3R8xm",
        "outputId": "19c5c30e-7024-464e-8bb9-a813ae974687"
      },
      "execution_count": 41,
      "outputs": [
        {
          "output_type": "stream",
          "name": "stdout",
          "text": [
            "Training tree score: 1.0\n",
            "Testing tree score: 0.21849745223158068\n"
          ]
        }
      ]
    },
    {
      "cell_type": "code",
      "source": [
        "# obtaining our RSME scores\n",
        "rsme_tree_train_score = np.sqrt(mean_squared_error(y_train, tree_train_preds))\n",
        "rsme_tree_test_score = np.sqrt(mean_squared_error(y_test, tree_test_preds))\n",
        "\n",
        "print(f\"Training tree RSME score: {rsme_tree_train_score}\")\n",
        "print(f\"Testing tree RSME score: {rsme_tree_test_score}\")"
      ],
      "metadata": {
        "colab": {
          "base_uri": "https://localhost:8080/"
        },
        "id": "Qo2td49ZSbc9",
        "outputId": "c20a735b-7f72-4c3b-c40d-600d10450ebe"
      },
      "execution_count": 42,
      "outputs": [
        {
          "output_type": "stream",
          "name": "stdout",
          "text": [
            "Training tree RSME score: 4.925864104892086e-15\n",
            "Testing tree RSME score: 1468.382708852193\n"
          ]
        }
      ]
    },
    {
      "cell_type": "code",
      "source": [
        "dec_tree.get_params()"
      ],
      "metadata": {
        "colab": {
          "base_uri": "https://localhost:8080/"
        },
        "id": "7g4bgaRAL6vD",
        "outputId": "82b0b681-d7bd-41dd-e018-48d2aa788ca0"
      },
      "execution_count": 43,
      "outputs": [
        {
          "output_type": "execute_result",
          "data": {
            "text/plain": [
              "{'ccp_alpha': 0.0,\n",
              " 'criterion': 'squared_error',\n",
              " 'max_depth': None,\n",
              " 'max_features': None,\n",
              " 'max_leaf_nodes': None,\n",
              " 'min_impurity_decrease': 0.0,\n",
              " 'min_samples_leaf': 1,\n",
              " 'min_samples_split': 2,\n",
              " 'min_weight_fraction_leaf': 0.0,\n",
              " 'random_state': 42,\n",
              " 'splitter': 'best'}"
            ]
          },
          "metadata": {},
          "execution_count": 43
        }
      ]
    },
    {
      "cell_type": "code",
      "source": [
        "# creating a function so we can see what depth has the highest r2 score\n",
        "max_depth_range = list(range(2, 36)) \n",
        "\n",
        "r2 = []\n",
        "for depth in max_depth_range:\n",
        "    dec_tree = DecisionTreeRegressor(max_depth = depth, \n",
        "                             random_state = 42)\n",
        "    dec_tree.fit(X_train_processed, y_train)\n",
        "    score = dec_tree.score(X_test_processed, y_test)\n",
        "    r2.append(score)"
      ],
      "metadata": {
        "id": "7V7bvPSELzgz"
      },
      "execution_count": 44,
      "outputs": []
    },
    {
      "cell_type": "code",
      "source": [
        "# graphing our results\n",
        "sns.set(font_scale=1.2)\n",
        "plt.plot(max_depth_range, r2)\n",
        "plt.xlabel(\"max_depth\")\n",
        "plt.ylabel(\"R2\")"
      ],
      "metadata": {
        "colab": {
          "base_uri": "https://localhost:8080/",
          "height": 307
        },
        "id": "8BAuKw71MSuA",
        "outputId": "9bbdd07a-b753-49d8-b8b9-73967a798022"
      },
      "execution_count": 45,
      "outputs": [
        {
          "output_type": "execute_result",
          "data": {
            "text/plain": [
              "Text(0, 0.5, 'R2')"
            ]
          },
          "metadata": {},
          "execution_count": 45
        },
        {
          "output_type": "display_data",
          "data": {
            "image/png": "[encoded data removed]",
            "text/plain": [
              "<Figure size 432x288 with 1 Axes>"
            ]
          },
          "metadata": {}
        }
      ]
    },
    {
      "cell_type": "code",
      "source": [
        "# we can see that our model performs better at a depth of 5\n",
        "dec_tree_5 = DecisionTreeRegressor(max_depth = 5, random_state = 42)\n",
        "dec_tree_5.fit(X_train_processed, y_train)\n",
        "train_5_score = dec_tree_5.score(X_train_processed, y_train)\n",
        "test_5_score = dec_tree_5.score(X_test_processed, y_test)\n",
        "\n",
        "print(train_5_score)\n",
        "print(test_5_score)"
      ],
      "metadata": {
        "colab": {
          "base_uri": "https://localhost:8080/"
        },
        "id": "dzvn-r5EM9zG",
        "outputId": "4f52c524-f48b-4a9b-dde1-80bf3fd89a5d"
      },
      "execution_count": 46,
      "outputs": [
        {
          "output_type": "stream",
          "name": "stdout",
          "text": [
            "0.603931621085344\n",
            "0.5947201327889511\n"
          ]
        }
      ]
    },
    {
      "cell_type": "markdown",
      "source": [
        "# Bagging Regressor Model"
      ],
      "metadata": {
        "id": "ZVbgDCrSRRYi"
      }
    },
    {
      "cell_type": "code",
      "source": [
        "# instantiating our bagging regressor model\n",
        "bagreg = BaggingRegressor(random_state=42)"
      ],
      "metadata": {
        "id": "qAbsVXbDKSiy"
      },
      "execution_count": 47,
      "outputs": []
    },
    {
      "cell_type": "code",
      "source": [
        "# fitting our bagging regressor model\n",
        "bagreg.fit(X_train_processed, y_train)"
      ],
      "metadata": {
        "colab": {
          "base_uri": "https://localhost:8080/",
          "height": 74
        },
        "id": "UcBojwpJKlgS",
        "outputId": "f44a7efb-3232-4194-9384-15938dbde1d9"
      },
      "execution_count": 48,
      "outputs": [
        {
          "output_type": "execute_result",
          "data": {
            "text/html": [
              "<style>#sk-427cf898-3ecd-4d00-904f-1f51ab29831f {color: black;background-color: white;}#sk-427cf898-3ecd-4d00-904f-1f51ab29831f pre{padding: 0;}#sk-427cf898-3ecd-4d00-904f-1f51ab29831f div.sk-toggleable {background-color: white;}#sk-427cf898-3ecd-4d00-904f-1f51ab29831f label.sk-toggleable__label {cursor: pointer;display: block;width: 100%;margin-bottom: 0;padding: 0.3em;box-sizing: border-box;text-align: center;}#sk-427cf898-3ecd-4d00-904f-1f51ab29831f label.sk-toggleable__label-arrow:before {content: \"▸\";float: left;margin-right: 0.25em;color: #696969;}#sk-427cf898-3ecd-4d00-904f-1f51ab29831f label.sk-toggleable__label-arrow:hover:before {color: black;}#sk-427cf898-3ecd-4d00-904f-1f51ab29831f div.sk-estimator:hover label.sk-toggleable__label-arrow:before {color: black;}#sk-427cf898-3ecd-4d00-904f-1f51ab29831f div.sk-toggleable__content {max-height: 0;max-width: 0;overflow: hidden;text-align: left;background-color: #f0f8ff;}#sk-427cf898-3ecd-4d00-904f-1f51ab29831f div.sk-toggleable__content pre {margin: 0.2em;color: black;border-radius: 0.25em;background-color: #f0f8ff;}#sk-427cf898-3ecd-4d00-904f-1f51ab29831f input.sk-toggleable__control:checked~div.sk-toggleable__content {max-height: 200px;max-width: 100%;overflow: auto;}#sk-427cf898-3ecd-4d00-904f-1f51ab29831f input.sk-toggleable__control:checked~label.sk-toggleable__label-arrow:before {content: \"▾\";}#sk-427cf898-3ecd-4d00-904f-1f51ab29831f div.sk-estimator input.sk-toggleable__control:checked~label.sk-toggleable__label {background-color: #d4ebff;}#sk-427cf898-3ecd-4d00-904f-1f51ab29831f div.sk-label input.sk-toggleable__control:checked~label.sk-toggleable__label {background-color: #d4ebff;}#sk-427cf898-3ecd-4d00-904f-1f51ab29831f input.sk-hidden--visually {border: 0;clip: rect(1px 1px 1px 1px);clip: rect(1px, 1px, 1px, 1px);height: 1px;margin: -1px;overflow: hidden;padding: 0;position: absolute;width: 1px;}#sk-427cf898-3ecd-4d00-904f-1f51ab29831f div.sk-estimator {font-family: monospace;background-color: #f0f8ff;border: 1px dotted black;border-radius: 0.25em;box-sizing: border-box;margin-bottom: 0.5em;}#sk-427cf898-3ecd-4d00-904f-1f51ab29831f div.sk-estimator:hover {background-color: #d4ebff;}#sk-427cf898-3ecd-4d00-904f-1f51ab29831f div.sk-parallel-item::after {content: \"\";width: 100%;border-bottom: 1px solid gray;flex-grow: 1;}#sk-427cf898-3ecd-4d00-904f-1f51ab29831f div.sk-label:hover label.sk-toggleable__label {background-color: #d4ebff;}#sk-427cf898-3ecd-4d00-904f-1f51ab29831f div.sk-serial::before {content: \"\";position: absolute;border-left: 1px solid gray;box-sizing: border-box;top: 2em;bottom: 0;left: 50%;}#sk-427cf898-3ecd-4d00-904f-1f51ab29831f div.sk-serial {display: flex;flex-direction: column;align-items: center;background-color: white;padding-right: 0.2em;padding-left: 0.2em;}#sk-427cf898-3ecd-4d00-904f-1f51ab29831f div.sk-item {z-index: 1;}#sk-427cf898-3ecd-4d00-904f-1f51ab29831f div.sk-parallel {display: flex;align-items: stretch;justify-content: center;background-color: white;}#sk-427cf898-3ecd-4d00-904f-1f51ab29831f div.sk-parallel::before {content: \"\";position: absolute;border-left: 1px solid gray;box-sizing: border-box;top: 2em;bottom: 0;left: 50%;}#sk-427cf898-3ecd-4d00-904f-1f51ab29831f div.sk-parallel-item {display: flex;flex-direction: column;position: relative;background-color: white;}#sk-427cf898-3ecd-4d00-904f-1f51ab29831f div.sk-parallel-item:first-child::after {align-self: flex-end;width: 50%;}#sk-427cf898-3ecd-4d00-904f-1f51ab29831f div.sk-parallel-item:last-child::after {align-self: flex-start;width: 50%;}#sk-427cf898-3ecd-4d00-904f-1f51ab29831f div.sk-parallel-item:only-child::after {width: 0;}#sk-427cf898-3ecd-4d00-904f-1f51ab29831f div.sk-dashed-wrapped {border: 1px dashed gray;margin: 0 0.4em 0.5em 0.4em;box-sizing: border-box;padding-bottom: 0.4em;background-color: white;position: relative;}#sk-427cf898-3ecd-4d00-904f-1f51ab29831f div.sk-label label {font-family: monospace;font-weight: bold;background-color: white;display: inline-block;line-height: 1.2em;}#sk-427cf898-3ecd-4d00-904f-1f51ab29831f div.sk-label-container {position: relative;z-index: 2;text-align: center;}#sk-427cf898-3ecd-4d00-904f-1f51ab29831f div.sk-container {/* jupyter's `normalize.less` sets `[hidden] { display: none; }` but bootstrap.min.css set `[hidden] { display: none !important; }` so we also need the `!important` here to be able to override the default hidden behavior on the sphinx rendered scikit-learn.org. See: https://github.com/scikit-learn/scikit-learn/issues/21755 */display: inline-block !important;position: relative;}#sk-427cf898-3ecd-4d00-904f-1f51ab29831f div.sk-text-repr-fallback {display: none;}</style><div id=\"sk-427cf898-3ecd-4d00-904f-1f51ab29831f\" class=\"sk-top-container\"><div class=\"sk-text-repr-fallback\"><pre>BaggingRegressor(random_state=42)</pre><b>Please rerun this cell to show the HTML repr or trust the notebook.</b></div><div class=\"sk-container\" hidden><div class=\"sk-item\"><div class=\"sk-estimator sk-toggleable\"><input class=\"sk-toggleable__control sk-hidden--visually\" id=\"a205bffd-3364-46fb-9d42-575a311a4da2\" type=\"checkbox\" checked><label for=\"a205bffd-3364-46fb-9d42-575a311a4da2\" class=\"sk-toggleable__label sk-toggleable__label-arrow\">BaggingRegressor</label><div class=\"sk-toggleable__content\"><pre>BaggingRegressor(random_state=42)</pre></div></div></div></div></div>"
            ],
            "text/plain": [
              "BaggingRegressor(random_state=42)"
            ]
          },
          "metadata": {},
          "execution_count": 48
        }
      ]
    },
    {
      "cell_type": "code",
      "source": [
        "# obtaining our training and testing scores\n",
        "bagreg_train_score = bagreg.score(X_train_processed, y_train)\n",
        "bagreg_test_score = bagreg.score(X_test_processed, y_test)\n",
        "\n",
        "print(f\"Training bagreg tree score: {bagreg_train_score}\")\n",
        "print(f\"Testing bagreg tree score: {bagreg_test_score}\")"
      ],
      "metadata": {
        "colab": {
          "base_uri": "https://localhost:8080/"
        },
        "id": "dFXTnyxJKsWh",
        "outputId": "c30c90ca-a524-40fb-a2eb-c56339b3f6f2"
      },
      "execution_count": 49,
      "outputs": [
        {
          "output_type": "stream",
          "name": "stdout",
          "text": [
            "Training bagreg tree score: 0.9177589067513447\n",
            "Testing bagreg tree score: 0.5280559996200662\n"
          ]
        }
      ]
    },
    {
      "cell_type": "code",
      "source": [
        "bagreg.get_params()"
      ],
      "metadata": {
        "colab": {
          "base_uri": "https://localhost:8080/"
        },
        "id": "8tGX_nkGK44O",
        "outputId": "13bc8b12-0bfd-4ea8-904b-9d5bb22fcebc"
      },
      "execution_count": 50,
      "outputs": [
        {
          "output_type": "execute_result",
          "data": {
            "text/plain": [
              "{'base_estimator': None,\n",
              " 'bootstrap': True,\n",
              " 'bootstrap_features': False,\n",
              " 'max_features': 1.0,\n",
              " 'max_samples': 1.0,\n",
              " 'n_estimators': 10,\n",
              " 'n_jobs': None,\n",
              " 'oob_score': False,\n",
              " 'random_state': 42,\n",
              " 'verbose': 0,\n",
              " 'warm_start': False}"
            ]
          },
          "metadata": {},
          "execution_count": 50
        }
      ]
    },
    {
      "cell_type": "code",
      "source": [
        "# we can see that by increasing our estimators we dont improve our model by much\n",
        "bagreg_2 = BaggingRegressor(n_estimators=100, random_state=42)\n",
        "\n",
        "bagreg_2.fit(X_train_processed, y_train)\n",
        "\n",
        "bagreg_train_score2 = bagreg_2.score(X_train_processed, y_train)\n",
        "bagreg_test_score2 = bagreg_2.score(X_test_processed, y_test)\n",
        "\n",
        "print(f\"Training bagreg tree score: {bagreg_train_score2}\")\n",
        "print(f\"Testing bagreg tree score: {bagreg_test_score2}\")"
      ],
      "metadata": {
        "colab": {
          "base_uri": "https://localhost:8080/"
        },
        "id": "a_JVJDOMNuEE",
        "outputId": "c690b7b9-1f86-404d-8c41-9eeb6aeeb3ca"
      },
      "execution_count": 51,
      "outputs": [
        {
          "output_type": "stream",
          "name": "stdout",
          "text": [
            "Training bagreg tree score: 0.9375238916763909\n",
            "Testing bagreg tree score: 0.5510221330541452\n"
          ]
        }
      ]
    },
    {
      "cell_type": "markdown",
      "source": [
        "# Random Forest Regressor Model"
      ],
      "metadata": {
        "id": "KGMnU-aWRVGT"
      }
    },
    {
      "cell_type": "code",
      "source": [
        "# instantiating our random forest regressor\n",
        "rf = RandomForestRegressor(random_state=42)"
      ],
      "metadata": {
        "id": "JZD7-z9hN_TA"
      },
      "execution_count": 52,
      "outputs": []
    },
    {
      "cell_type": "code",
      "source": [
        "# fitting our data to our model\n",
        "rf.fit(X_train_processed, y_train)"
      ],
      "metadata": {
        "colab": {
          "base_uri": "https://localhost:8080/",
          "height": 74
        },
        "id": "hHu_tnvFOcx2",
        "outputId": "15b6b316-2d6e-4c18-de71-a78017deb932"
      },
      "execution_count": 53,
      "outputs": [
        {
          "output_type": "execute_result",
          "data": {
            "text/html": [
              "<style>#sk-fac28ae9-bb88-43ea-ae0e-4cb336467bde {color: black;background-color: white;}#sk-fac28ae9-bb88-43ea-ae0e-4cb336467bde pre{padding: 0;}#sk-fac28ae9-bb88-43ea-ae0e-4cb336467bde div.sk-toggleable {background-color: white;}#sk-fac28ae9-bb88-43ea-ae0e-4cb336467bde label.sk-toggleable__label {cursor: pointer;display: block;width: 100%;margin-bottom: 0;padding: 0.3em;box-sizing: border-box;text-align: center;}#sk-fac28ae9-bb88-43ea-ae0e-4cb336467bde label.sk-toggleable__label-arrow:before {content: \"▸\";float: left;margin-right: 0.25em;color: #696969;}#sk-fac28ae9-bb88-43ea-ae0e-4cb336467bde label.sk-toggleable__label-arrow:hover:before {color: black;}#sk-fac28ae9-bb88-43ea-ae0e-4cb336467bde div.sk-estimator:hover label.sk-toggleable__label-arrow:before {color: black;}#sk-fac28ae9-bb88-43ea-ae0e-4cb336467bde div.sk-toggleable__content {max-height: 0;max-width: 0;overflow: hidden;text-align: left;background-color: #f0f8ff;}#sk-fac28ae9-bb88-43ea-ae0e-4cb336467bde div.sk-toggleable__content pre {margin: 0.2em;color: black;border-radius: 0.25em;background-color: #f0f8ff;}#sk-fac28ae9-bb88-43ea-ae0e-4cb336467bde input.sk-toggleable__control:checked~div.sk-toggleable__content {max-height: 200px;max-width: 100%;overflow: auto;}#sk-fac28ae9-bb88-43ea-ae0e-4cb336467bde input.sk-toggleable__control:checked~label.sk-toggleable__label-arrow:before {content: \"▾\";}#sk-fac28ae9-bb88-43ea-ae0e-4cb336467bde div.sk-estimator input.sk-toggleable__control:checked~label.sk-toggleable__label {background-color: #d4ebff;}#sk-fac28ae9-bb88-43ea-ae0e-4cb336467bde div.sk-label input.sk-toggleable__control:checked~label.sk-toggleable__label {background-color: #d4ebff;}#sk-fac28ae9-bb88-43ea-ae0e-4cb336467bde input.sk-hidden--visually {border: 0;clip: rect(1px 1px 1px 1px);clip: rect(1px, 1px, 1px, 1px);height: 1px;margin: -1px;overflow: hidden;padding: 0;position: absolute;width: 1px;}#sk-fac28ae9-bb88-43ea-ae0e-4cb336467bde div.sk-estimator {font-family: monospace;background-color: #f0f8ff;border: 1px dotted black;border-radius: 0.25em;box-sizing: border-box;margin-bottom: 0.5em;}#sk-fac28ae9-bb88-43ea-ae0e-4cb336467bde div.sk-estimator:hover {background-color: #d4ebff;}#sk-fac28ae9-bb88-43ea-ae0e-4cb336467bde div.sk-parallel-item::after {content: \"\";width: 100%;border-bottom: 1px solid gray;flex-grow: 1;}#sk-fac28ae9-bb88-43ea-ae0e-4cb336467bde div.sk-label:hover label.sk-toggleable__label {background-color: #d4ebff;}#sk-fac28ae9-bb88-43ea-ae0e-4cb336467bde div.sk-serial::before {content: \"\";position: absolute;border-left: 1px solid gray;box-sizing: border-box;top: 2em;bottom: 0;left: 50%;}#sk-fac28ae9-bb88-43ea-ae0e-4cb336467bde div.sk-serial {display: flex;flex-direction: column;align-items: center;background-color: white;padding-right: 0.2em;padding-left: 0.2em;}#sk-fac28ae9-bb88-43ea-ae0e-4cb336467bde div.sk-item {z-index: 1;}#sk-fac28ae9-bb88-43ea-ae0e-4cb336467bde div.sk-parallel {display: flex;align-items: stretch;justify-content: center;background-color: white;}#sk-fac28ae9-bb88-43ea-ae0e-4cb336467bde div.sk-parallel::before {content: \"\";position: absolute;border-left: 1px solid gray;box-sizing: border-box;top: 2em;bottom: 0;left: 50%;}#sk-fac28ae9-bb88-43ea-ae0e-4cb336467bde div.sk-parallel-item {display: flex;flex-direction: column;position: relative;background-color: white;}#sk-fac28ae9-bb88-43ea-ae0e-4cb336467bde div.sk-parallel-item:first-child::after {align-self: flex-end;width: 50%;}#sk-fac28ae9-bb88-43ea-ae0e-4cb336467bde div.sk-parallel-item:last-child::after {align-self: flex-start;width: 50%;}#sk-fac28ae9-bb88-43ea-ae0e-4cb336467bde div.sk-parallel-item:only-child::after {width: 0;}#sk-fac28ae9-bb88-43ea-ae0e-4cb336467bde div.sk-dashed-wrapped {border: 1px dashed gray;margin: 0 0.4em 0.5em 0.4em;box-sizing: border-box;padding-bottom: 0.4em;background-color: white;position: relative;}#sk-fac28ae9-bb88-43ea-ae0e-4cb336467bde div.sk-label label {font-family: monospace;font-weight: bold;background-color: white;display: inline-block;line-height: 1.2em;}#sk-fac28ae9-bb88-43ea-ae0e-4cb336467bde div.sk-label-container {position: relative;z-index: 2;text-align: center;}#sk-fac28ae9-bb88-43ea-ae0e-4cb336467bde div.sk-container {/* jupyter's `normalize.less` sets `[hidden] { display: none; }` but bootstrap.min.css set `[hidden] { display: none !important; }` so we also need the `!important` here to be able to override the default hidden behavior on the sphinx rendered scikit-learn.org. See: https://github.com/scikit-learn/scikit-learn/issues/21755 */display: inline-block !important;position: relative;}#sk-fac28ae9-bb88-43ea-ae0e-4cb336467bde div.sk-text-repr-fallback {display: none;}</style><div id=\"sk-fac28ae9-bb88-43ea-ae0e-4cb336467bde\" class=\"sk-top-container\"><div class=\"sk-text-repr-fallback\"><pre>RandomForestRegressor(random_state=42)</pre><b>Please rerun this cell to show the HTML repr or trust the notebook.</b></div><div class=\"sk-container\" hidden><div class=\"sk-item\"><div class=\"sk-estimator sk-toggleable\"><input class=\"sk-toggleable__control sk-hidden--visually\" id=\"19f7414c-7643-40dd-8562-cb47593835ea\" type=\"checkbox\" checked><label for=\"19f7414c-7643-40dd-8562-cb47593835ea\" class=\"sk-toggleable__label sk-toggleable__label-arrow\">RandomForestRegressor</label><div class=\"sk-toggleable__content\"><pre>RandomForestRegressor(random_state=42)</pre></div></div></div></div></div>"
            ],
            "text/plain": [
              "RandomForestRegressor(random_state=42)"
            ]
          },
          "metadata": {},
          "execution_count": 53
        }
      ]
    },
    {
      "cell_type": "code",
      "source": [
        "# obtaining our random forest model scores\n",
        "rf_train_score = rf.score(X_train_processed, y_train)\n",
        "rf_test_score = rf.score(X_test_processed, y_test)\n",
        "\n",
        "print(f\"Training random forest score: {rf_train_score}\")\n",
        "print(f\"Testing random forest score: {rf_test_score}\")"
      ],
      "metadata": {
        "colab": {
          "base_uri": "https://localhost:8080/"
        },
        "id": "ub3QUg_VOihf",
        "outputId": "6a672829-8321-4ef2-9e9e-82bdd4a15c63"
      },
      "execution_count": 54,
      "outputs": [
        {
          "output_type": "stream",
          "name": "stdout",
          "text": [
            "Training random forest score: 0.9374452546679167\n",
            "Testing random forest score: 0.551289918057025\n"
          ]
        }
      ]
    },
    {
      "cell_type": "code",
      "source": [
        "# creating a function to see what the most optimal max depth is \n",
        "max_depth_range = list(range(2, 36)) \n",
        "r2 = []\n",
        "for depth in max_depth_range:\n",
        "    random_tree = RandomForestRegressor(max_depth = depth, \n",
        "                             random_state = 42)\n",
        "    random_tree.fit(X_train_processed, y_train)\n",
        "    score = random_tree.score(X_test_processed, y_test)\n",
        "    r2.append(score)"
      ],
      "metadata": {
        "id": "BpoXYUgnO4BQ"
      },
      "execution_count": 55,
      "outputs": []
    },
    {
      "cell_type": "code",
      "source": [
        "plt.plot(max_depth_range, r2)\n",
        "plt.xlabel(\"max_depth\")\n",
        "plt.ylabel(\"R2\")"
      ],
      "metadata": {
        "colab": {
          "base_uri": "https://localhost:8080/",
          "height": 307
        },
        "id": "LfeJgj_nO8Ga",
        "outputId": "568dff19-0eaf-46dd-8878-f1186262f3b9"
      },
      "execution_count": 56,
      "outputs": [
        {
          "output_type": "execute_result",
          "data": {
            "text/plain": [
              "Text(0, 0.5, 'R2')"
            ]
          },
          "metadata": {},
          "execution_count": 56
        },
        {
          "output_type": "display_data",
          "data": {
            "image/png": "[encoded data removed]",
            "text/plain": [
              "<Figure size 432x288 with 1 Axes>"
            ]
          },
          "metadata": {}
        }
      ]
    },
    {
      "cell_type": "code",
      "source": [
        "# changing the depth to 5 gives us a better fit and overall score for our model,\n",
        "# changing the estimators doesnt significantly boost our performance\n",
        "rf2 = RandomForestRegressor(max_depth=5, n_estimators=200, random_state=42)\n",
        "\n",
        "rf2.fit(X_train_processed, y_train)\n",
        "\n",
        "rf2_train_score = rf2.score(X_train_processed, y_train)\n",
        "rf2_test_score = rf2.score(X_test_processed, y_test)\n",
        "\n",
        "print(f\"Training random forest score: {rf2_train_score}\")\n",
        "print(f\"Testing random forest score: {rf2_test_score}\")"
      ],
      "metadata": {
        "colab": {
          "base_uri": "https://localhost:8080/"
        },
        "id": "8jq4mci2PeZt",
        "outputId": "5b7ca6c3-3822-45a0-b753-846f71f36867"
      },
      "execution_count": 57,
      "outputs": [
        {
          "output_type": "stream",
          "name": "stdout",
          "text": [
            "Training random forest score: 0.6103844158291255\n",
            "Testing random forest score: 0.6029963857907892\n"
          ]
        }
      ]
    },
    {
      "cell_type": "markdown",
      "source": [
        "# Decision on which model to use\n",
        "- Overall all the models performed similarly besides our bagged tree regressor model. Our Random Forest model performed the best although it did not out perform our Decision Tree Regressor model by much. Also our random forest model has variance so our trees aren't highly correlated so we have variance with this model. "
      ],
      "metadata": {
        "id": "vBnNYjiGUJtK"
      }
    }
  ]
}